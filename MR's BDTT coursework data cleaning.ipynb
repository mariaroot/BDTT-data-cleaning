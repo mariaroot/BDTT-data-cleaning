{
 "cells": [
  {
   "cell_type": "code",
   "execution_count": 0,
   "metadata": {
    "application/vnd.databricks.v1+cell": {
     "cellMetadata": {
      "byteLimit": 2048000,
      "rowLimit": 10000
     },
     "inputWidgets": {},
     "nuid": "8051b97f-9922-483e-95ab-75aa807354a6",
     "showTitle": false,
     "tableResultSettingsMap": {},
     "title": ""
    }
   },
   "outputs": [
    {
     "output_type": "execute_result",
     "data": {
      "text/plain": [
       "[FileInfo(path='dbfs:/FileStore/tables/emails.csv', name='emails.csv', size=1426122219, modificationTime=1739876309000)]"
      ]
     },
     "execution_count": 88,
     "metadata": {},
     "output_type": "execute_result"
    }
   ],
   "source": [
    "#check that emails.csv file successfully uploaded into DBFS\n",
    "dbutils.fs.ls(\"/FileStore/tables/emails.csv\")"
   ]
  },
  {
   "cell_type": "code",
   "execution_count": 0,
   "metadata": {
    "application/vnd.databricks.v1+cell": {
     "cellMetadata": {
      "byteLimit": 2048000,
      "rowLimit": 10000
     },
     "inputWidgets": {},
     "nuid": "c5de93ab-7aa8-4545-bce3-34a116947dfd",
     "showTitle": false,
     "tableResultSettingsMap": {},
     "title": ""
    }
   },
   "outputs": [
    {
     "output_type": "stream",
     "name": "stdout",
     "output_type": "stream",
     "text": [
      "[Truncated to first 65536 bytes]\n"
     ]
    },
    {
     "output_type": "execute_result",
     "data": {
      "text/plain": [
       "'\"file\",\"message\"\\n\"allen-p/_sent_mail/1.\",\"Message-ID: <18782981.1075855378110.JavaMail.evans@thyme>\\nDate: Mon, 14 May 2001 16:39:00 -0700 (PDT)\\nFrom: phillip.allen@enron.com\\nTo: tim.belden@enron.com\\nSubject: \\nMime-Version: 1.0\\nContent-Type: text/plain; charset=us-ascii\\nContent-Transfer-Encoding: 7bit\\nX-From: Phillip K Allen\\nX-To: Tim Belden <Tim Belden/Enron@EnronXGate>\\nX-cc: \\nX-bcc: \\nX-Folder: \\\\Phillip_Allen_Jan2002_1\\\\Allen, Phillip K.\\\\\\'Sent Mail\\nX-Origin: Allen-P\\nX-FileName: pallen (Non-Privileged).pst\\n\\nHere is our forecast\\n\\n \"\\n\"allen-p/_sent_mail/10.\",\"Message-ID: <15464986.1075855378456.JavaMail.evans@thyme>\\nDate: Fri, 4 May 2001 13:51:00 -0700 (PDT)\\nFrom: phillip.allen@enron.com\\nTo: john.lavorato@enron.com\\nSubject: Re:\\nMime-Version: 1.0\\nContent-Type: text/plain; charset=us-ascii\\nContent-Transfer-Encoding: 7bit\\nX-From: Phillip K Allen\\nX-To: John J Lavorato <John J Lavorato/ENRON@enronXgate@ENRON>\\nX-cc: \\nX-bcc: \\nX-Folder: \\\\Phillip_Allen_Jan2002_1\\\\Allen, Phillip K.\\\\\\'Sent Mail\\nX-Origin: Allen-P\\nX-FileName: pallen (Non-Privileged).pst\\n\\nTraveling to have a business meeting takes the fun out of the trip.  Especially if you have to prepare a presentation.  I would suggest holding the business plan meetings here then take a trip without any formal business meetings.  I would even try and get some honest opinions on whether a trip is even desired or necessary.\\n\\nAs far as the business meetings, I think it would be more productive to try and stimulate discussions across the different groups about what is working and what is not.  Too often the presenter speaks and the others are quiet just waiting for their turn.   The meetings might be better if held in a round table discussion format.  \\n\\nMy suggestion for where to go is Austin.  Play golf and rent a ski boat and jet ski\\'s.  Flying somewhere takes too much time.\\n\"\\n\"allen-p/_sent_mail/100.\",\"Message-ID: <24216240.1075855687451.JavaMail.evans@thyme>\\nDate: Wed, 18 Oct 2000 03:00:00 -0700 (PDT)\\nFrom: phillip.allen@enron.com\\nTo: leah.arsdall@enron.com\\nSubject: Re: test\\nMime-Version: 1.0\\nContent-Type: text/plain; charset=us-ascii\\nContent-Transfer-Encoding: 7bit\\nX-From: Phillip K Allen\\nX-To: Leah Van Arsdall\\nX-cc: \\nX-bcc: \\nX-Folder: \\\\Phillip_Allen_Dec2000\\\\Notes Folders\\\\\\'sent mail\\nX-Origin: Allen-P\\nX-FileName: pallen.nsf\\n\\ntest successful.  way to go!!!\"\\n\"allen-p/_sent_mail/1000.\",\"Message-ID: <13505866.1075863688222.JavaMail.evans@thyme>\\nDate: Mon, 23 Oct 2000 06:13:00 -0700 (PDT)\\nFrom: phillip.allen@enron.com\\nTo: randall.gay@enron.com\\nSubject: \\nMime-Version: 1.0\\nContent-Type: text/plain; charset=us-ascii\\nContent-Transfer-Encoding: 7bit\\nX-From: Phillip K Allen\\nX-To: Randall L Gay\\nX-cc: \\nX-bcc: \\nX-Folder: \\\\Phillip_Allen_Dec2000\\\\Notes Folders\\\\\\'sent mail\\nX-Origin: Allen-P\\nX-FileName: pallen.nsf\\n\\nRandy,\\n\\n Can you send me a schedule of the salary and level of everyone in the \\nscheduling group.  Plus your thoughts on any changes that need to be made.  \\n(Patti S for example)\\n\\nPhillip\"\\n\"allen-p/_sent_mail/1001.\",\"Message-ID: <30922949.1075863688243.JavaMail.evans@thyme>\\nDate: Thu, 31 Aug 2000 05:07:00 -0700 (PDT)\\nFrom: phillip.allen@enron.com\\nTo: greg.piper@enron.com\\nSubject: Re: Hello\\nMime-Version: 1.0\\nContent-Type: text/plain; charset=us-ascii\\nContent-Transfer-Encoding: 7bit\\nX-From: Phillip K Allen\\nX-To: Greg Piper\\nX-cc: \\nX-bcc: \\nX-Folder: \\\\Phillip_Allen_Dec2000\\\\Notes Folders\\\\\\'sent mail\\nX-Origin: Allen-P\\nX-FileName: pallen.nsf\\n\\nLet\\'s shoot for Tuesday at 11:45.  \"\\n\"allen-p/_sent_mail/1002.\",\"Message-ID: <30965995.1075863688265.JavaMail.evans@thyme>\\nDate: Thu, 31 Aug 2000 04:17:00 -0700 (PDT)\\nFrom: phillip.allen@enron.com\\nTo: greg.piper@enron.com\\nSubject: Re: Hello\\nMime-Version: 1.0\\nContent-Type: text/plain; charset=us-ascii\\nContent-Transfer-Encoding: 7bit\\nX-From: Phillip K Allen\\nX-To: Greg Piper\\nX-cc: \\nX-bcc: \\nX-Folder: \\\\Phillip_Allen_Dec2000\\\\Notes Folders\\\\\\'sent mail\\nX-Origin: Allen-P\\nX-FileName: pallen.nsf\\n\\nGreg,\\n\\n How about either next Tuesday or Thursday?\\n\\nPhillip\"\\n\"allen-p/_sent_mail/1003.\",\"Message-ID: <16254169.1075863688286.JavaMail.evans@thyme>\\nDate: Tue, 22 Aug 2000 07:44:00 -0700 (PDT)\\nFrom: phillip.allen@enron.com\\nTo: david.l.johnson@enron.com, john.shafer@enron.com\\nSubject: \\nMime-Version: 1.0\\nContent-Type: text/plain; charset=us-ascii\\nContent-Transfer-Encoding: 7bit\\nX-From: Phillip K Allen\\nX-To: david.l.johnson@enron.com, John Shafer\\nX-cc: \\nX-bcc: \\nX-Folder: \\\\Phillip_Allen_Dec2000\\\\Notes Folders\\\\\\'sent mail\\nX-Origin: Allen-P\\nX-FileName: pallen.nsf\\n\\nPlease cc the following distribution list with updates:\\n\\nPhillip Allen (pallen@enron.com)\\nMike Grigsby (mike.grigsby@enron.com)\\nKeith Holst (kholst@enron.com)\\nMonique Sanchez\\nFrank Ermis\\nJohn Lavorato\\n\\n\\nThank you for your help\\n\\nPhillip Allen\\n\"\\n\"allen-p/_sent_mail/1004.\",\"Message-ID: <17189699.1075863688308.JavaMail.evans@thyme>\\nDate: Fri, 14 Jul 2000 06:59:00 -0700 (PDT)\\nFrom: phillip.allen@enron.com\\nTo: joyce.teixeira@enron.com\\nSubject: Re: PRC review - phone calls\\nMime-Version: 1.0\\nContent-Type: text/plain; charset=us-ascii\\nContent-Transfer-Encoding: 7bit\\nX-From: Phillip K Allen\\nX-To: Joyce Teixeira\\nX-cc: \\nX-bcc: \\nX-Folder: \\\\Phillip_Allen_Dec2000\\\\Notes Folders\\\\\\'sent mail\\nX-Origin: Allen-P\\nX-FileName: pallen.nsf\\n\\nany morning between 10 and 11:30\"\\n\"allen-p/_sent_mail/101.\",\"Message-ID: <20641191.1075855687472.JavaMail.evans@thyme>\\nDate: Tue, 17 Oct 2000 02:26:00 -0700 (PDT)\\nFrom: phillip.allen@enron.com\\nTo: mark.scott@enron.com\\nSubject: Re: High Speed Internet Access\\nMime-Version: 1.0\\nContent-Type: text/plain; charset=us-ascii\\nContent-Transfer-Encoding: 7bit\\nX-From: Phillip K Allen\\nX-To: Mark Scott\\nX-cc: \\nX-bcc: \\nX-Folder: \\\\Phillip_Allen_Dec2000\\\\Notes Folders\\\\\\'sent mail\\nX-Origin: Allen-P\\nX-FileName: pallen.nsf\\n\\n1. login:  pallen pw: ke9davis\\n\\n I don\\'t think these are required by the ISP \\n\\n  2.  static IP address\\n\\n IP: 64.216.90.105\\n Sub: 255.255.255.248\\n gate: 64.216.90.110\\n DNS: 151.164.1.8\\n\\n  3.  Company: 0413\\n        RC:  105891\"\\n\"allen-p/_sent_mail/102.\",\"Message-ID: <30795301.1075855687494.JavaMail.evans@thyme>\\nDate: Mon, 16 Oct 2000 06:44:00 -0700 (PDT)\\nFrom: phillip.allen@enron.com\\nTo: zimam@enron.com\\nSubject: FW: fixed forward or other Collar floor gas price terms\\nMime-Version: 1.0\\nContent-Type: text/plain; charset=us-ascii\\nContent-Transfer-Encoding: 7bit\\nX-From: Phillip K Allen\\nX-To: zimam@enron.com\\nX-cc: \\nX-bcc: \\nX-Folder: \\\\Phillip_Allen_Dec2000\\\\Notes Folders\\\\\\'sent mail\\nX-Origin: Allen-P\\nX-FileName: pallen.nsf\\n\\n---------------------- Forwarded by Phillip K Allen/HOU/ECT on 10/16/2000 \\n01:42 PM ---------------------------\\n\\n\\n\"\"Buckner, Buck\"\" <buck.buckner@honeywell.com> on 10/12/2000 01:12:21 PM\\nTo: \"\"\\'Pallen@Enron.com\\'\"\" <Pallen@Enron.com>\\ncc:  \\nSubject: FW: fixed forward or other Collar floor gas price terms\\n\\n\\nPhillip,\\n\\n> As discussed  during our phone conversation, In a Parallon 75 microturbine\\n> power generation deal for a national accounts customer, I am developing a\\n> proposal to sell power to customer at fixed or collar/floor price. To do\\n> so I need a corresponding term gas price for same. Microturbine is an\\n> onsite generation product developed by Honeywell to generate electricity\\n> on customer site (degen). using natural gas. In doing so,  I need your\\n> best fixed price forward gas price deal for 1, 3, 5, 7 and 10 years for\\n> annual/seasonal supply to microturbines to generate fixed kWh for\\n> customer. We have the opportunity to sell customer kWh \\'s using\\n> microturbine or sell them turbines themselves. kWh deal must have limited/\\n> no risk forward gas price to make deal work. Therein comes Sempra energy\\n> gas trading, truly you.\\n>\\n> We are proposing installing 180 - 240 units across a large number of\\n> stores (60-100) in San Diego.\\n> Store number varies because of installation hurdles face at small percent.\\n>\\n> For 6-8 hours a day  Microturbine run time:\\n> Gas requirement for 180 microturbines 227 - 302 MMcf per year\\n> Gas requirement for 240 microturbines 302 - 403 MMcf per year\\n>\\n> Gas will likely be consumed from May through September, during peak\\n> electric period.\\n> Gas price required: Burnertip price behind (LDC) San Diego Gas & Electric\\n> Need detail breakout of commodity and transport cost (firm or\\n> interruptible).\\n>\\n> Should you have additional questions, give me a call.\\n> Let me assure you, this is real deal!!\\n>\\n> Buck Buckner, P.E., MBA\\n> Manager, Business Development and Planning\\n> Big Box Retail Sales\\n> Honeywell Power Systems, Inc.\\n> 8725 Pan American Frwy\\n> Albuquerque, NM 87113\\n> 505-798-6424\\n> 505-798-6050x\\n> 505-220-4129\\n> 888/501-3145\\n> \\n\"\\n\"allen-p/_sent_mail/103.\",\"Message-ID: <33076797.1075855687515.JavaMail.evans@thyme>\\nDate: Mon, 16 Oct 2000 06:42:00 -0700 (PDT)\\nFrom: phillip.allen@enron.com\\nTo: buck.buckner@honeywell.com\\nSubject: Re: FW: fixed forward or other Collar floor gas price terms\\nMime-Version: 1.0\\nContent-Type: text/plain; charset=us-ascii\\nContent-Transfer-Encoding: 7bit\\nX-From: Phillip K Allen\\nX-To: \"\"Buckner, Buck\"\" <buck.buckner@honeywell.com> @ ENRON\\nX-cc: \\nX-bcc: \\nX-Folder: \\\\Phillip_Allen_Dec2000\\\\Notes Folders\\\\\\'sent mail\\nX-Origin: Allen-P\\nX-FileName: pallen.nsf\\n\\nMr. Buckner,\\n\\n For delivered gas behind San Diego, Enron Energy Services is the appropriate \\nEnron entity.  I have forwarded your request to Zarin Imam at EES.  Her phone \\nnumber is 713-853-7107.  \\n\\nPhillip Allen\"\\n\"allen-p/_sent_mail/104.\",\"Message-ID: <25459584.1075855687536.JavaMail.evans@thyme>\\nDate: Fri, 13 Oct 2000 06:45:00 -0700 (PDT)\\nFrom: phillip.allen@enron.com\\nTo: stagecoachmama@hotmail.com\\nSubject: \\nMime-Version: 1.0\\nContent-Type: text/plain; charset=us-ascii\\nContent-Transfer-Encoding: 7bit\\nX-From: Phillip K Allen\\nX-To: stagecoachmama@hotmail.com\\nX-cc: \\nX-bcc: \\nX-Folder: \\\\Phillip_Allen_Dec2000\\\\Notes Folders\\\\\\'sent mail\\nX-Origin: Allen-P\\nX-FileName: pallen.nsf\\n\\nLucy,\\n\\n Here are the rentrolls:\\n\\n\\n\\n Open them and save in the rentroll folder.  Follow these steps so you don\\'t \\nmisplace these files.\\n\\n 1.  Click on Save As\\n 2.  Click on the drop down triangle under Save in:\\n 3.  Click on the  (C): drive\\n 4.  Click on the appropriate folder\\n 5.  Click on Save:\\n\\nPhillip\"\\n\"allen-p/_sent_mail/105.\",\"Message-ID: <13116875.1075855687561.JavaMail.evans@thyme>\\nDate: Mon, 9 Oct 2000 07:16:00 -0700 (PDT)\\nFrom: phillip.allen@enron.com\\nTo: keith.holst@enron.com\\nSubject: Consolidated positions: Issues & To Do list\\nMime-Version: 1.0\\nContent-Type: text/plain; charset=us-ascii\\nContent-Transfer-Encoding: 7bit\\nX-From: Phillip K Allen\\nX-To: Keith Holst\\nX-cc: \\nX-bcc: \\nX-Folder: \\\\Phillip_Allen_Dec2000\\\\Notes Folders\\\\\\'sent mail\\nX-Origin: Allen-P\\nX-FileName: pallen.nsf\\n\\n---------------------- Forwarded by Phillip K Allen/HOU/ECT on 10/09/2000 \\n02:16 PM ---------------------------\\n\\n\\nRichard Burchfield\\n10/06/2000 06:59 AM\\nTo: Phillip K Allen/HOU/ECT@ECT\\ncc: Beth Perlman/HOU/ECT@ECT \\nSubject: Consolidated positions: Issues & To Do list\\n\\nPhillip,\\n Below is the issues & to do list as we go forward with documenting the \\nrequirements for consolidated physical/financial positions and transport \\ntrade capture. What we need to focus on is the first bullet in Allan\\'s list; \\nthe need for a single set of requirements. Although the meeting with Keith, \\non Wednesday,  was informative the solution of creating a infinitely dynamic \\nconsolidated position screen, will be extremely difficult and time \\nconsuming.  Throughout the meeting on Wednesday, Keith alluded to the \\ninability to get consensus amongst the traders on the presentation of the \\nconsolidated position, so the solution was to make it so that a trader can \\narrange the position screen to their liking (much like Excel). What needs to \\nhappen on Monday from 3 - 5 is a effort to design a desired layout for the \\nconsolidated position screen, this is critical. This does not exclude \\nbuilding a capability to create a more flexible position presentation for the \\nfuture, but in order to create a plan that can be measured we need firm \\nrequirements. Also, to reiterate that the goals of this project is a project \\nplan on consolidate physical/financial positions and transport trade capture. \\nThe other issues that have been raised will be capture as projects on to \\nthemselves, and will need to be prioritised as efforts outside of this \\nproject.\\n\\nI have been involved in most of the meetings and the discussions have been \\ngood. I believe there has been good communication between the teams, but now \\nwe need to have focus on the objectives we set out to solve.\\n\\nRichard  \\n---------------------- Forwarded by Richard Burchfield/HOU/ECT on 10/06/2000 \\n08:34 AM ---------------------------\\n\\n\\nAllan Severude\\n10/05/2000 06:03 PM\\nTo: Richard Burchfield/HOU/ECT@ECT\\ncc: Peggy Alix/HOU/ECT@ECT, Russ Severson/HOU/ECT@ECT, Scott \\nMills/HOU/ECT@ECT, Kenny Ha/HOU/ECT@ECT \\nSubject: Consolidated positions: Issues & To Do list\\n\\n\\nFrom our initial set of meetings with the traders regarding consolidated \\npositions, I think we still have the following issues:\\nWe don\\'t have a single point of contact from the trading group.  We\\'ve had \\nthree meetings which brought out very different issues from different \\ntraders.  We really need a single point of contact to help drive the trader \\nrequirements and help come to a consensus regarding the requirements.\\nWe\\'re getting hit with a lot of different requests, many of which appear to \\nbe outside the scope of position consolidation.\\n\\nThings left to do:\\nI think it may be useful to try to formulate a high level project goal to \\nmake it as clear as possible what we\\'re trying to accomplish with this \\nproject.  It\\'ll help determine which requests fall under the project scope.\\nGo through the list of requests to determine which are in scope for this \\nproject and which fall out of scope.\\nFor those in scope, work to define relative importance (priority) of each and \\nwork with traders to define the exact requirements of each.\\nDefine the desired lay out of the position manager screen: main view and all \\ndrill downs.\\nUse the above to formulate a project plan.\\n\\nThings requested thus far (no particular order):\\nInclusion of Sitara physical deals into the TDS position manager and deal \\nticker.\\nCustomized rows and columns in the position manager (ad hoc rows/columns that \\nadd up existing position manager rows/columns).\\nNew drill down in the position manager to break out positions by: physical, \\ntransport, swaps, options, ...\\nAddition of a curve tab to the position manager to show the real-time values \\nof all curves on which the desk has a position.\\nAbility to split the current position grid to allow daily positions to be \\nshown directly above monthly positions.  Each grouped column in the top grid \\nwould be tied to a grouped column in the bottom grid.\\nAbility to properly show curve shift for float-for-float deals; determine the \\nappropriate positions to show for each:\\nGas Daily for monthly index,\\nPhysical gas for Nymex,\\nPhysical gas for Inside Ferc,\\nPhysical gas for Mid market.\\nAbility for TDS to pull valuation results based on a TDS flag instead of \\nusing official valuations.\\nPosition and P&L aggregation across all gas desks.\\nAbility to include the Gas Price book into TDS:\\nInclusion of spread options in our systems.  Ability to handle volatility \\nskew and correlations.\\nAbility to revalue all options incrementally throughout the trading day.  \\nApproximate delta changes between valuations using instantaneous gamma or a \\ngamma grid.\\nValuation of Gas Daily options.\\nA new position screen for options (months x strike x delta).  TBD.\\nInclusion of positions for exotic options currently managed in spreadsheets.\\nAbility to isolate the position change due to changed deals in the position \\nmanager.\\nAbility to view change deal P&L in the TDS deal ticker.  Show new deal terms, \\nprior deal terms, and net P&L affect of the change.\\nEliminate change deals with no economic impact from the TDS deal ticker.\\nPosition drill down in the position manager to isolate the impact of \\nindividual deals on the position total in a grid cell.\\nBenchmark positions in TDS.\\nDeployment of TDS in Canada. Currency and volume uom conversions. Implicit \\nand explicit position break out issues.\\n\\n-- Allan.\\n\\nPS: Colleen is setting up a meeting tomorrow to discuss the direction for \\ntransport.  Hopefully we\\'ll know much better where that part stands at that \\npoint.\\n\\n\\n\\n\\n\"\\n\"allen-p/_sent_mail/106.\",\"Message-ID: <2707340.1075855687584.JavaMail.evans@thyme>\\nDate: Mon, 9 Oct 2000 07:00:00 -0700 (PDT)\\nFrom: phillip.allen@enron.com\\nTo: keith.holst@enron.com\\nSubject: Consolidated positions: Issues & To Do list\\nMime-Version: 1.0\\nContent-Type: text/plain; charset=us-ascii\\nContent-Transfer-Encoding: 7bit\\nX-From: Phillip K Allen\\nX-To: Keith Holst\\nX-cc: \\nX-bcc: \\nX-Folder: \\\\Phillip_Allen_Dec2000\\\\Notes Folders\\\\\\'sent mail\\nX-Origin: Allen-P\\nX-FileName: pallen.nsf\\n\\n---------------------- Forwarded by Phillip K Allen/HOU/ECT on 10/09/2000 \\n02:00 PM ---------------------------\\n\\n\\nRichard Burchfield\\n10/06/2000 06:59 AM\\nTo: Phillip K Allen/HOU/ECT@ECT\\ncc: Beth Perlman/HOU/ECT@ECT \\nSubject: Consolidated positions: Issues & To Do list\\n\\nPhillip,\\n Below is the issues & to do list as we go forward with documenting the \\nrequirements for consolidated physical/financial positions and transport \\ntrade capture. What we need to focus on is the first bullet in Allan\\'s list; \\nthe need for a single set of requirements. Although the meeting with Keith, \\non Wednesday,  was informative the solution of creating a infinitely dynamic \\nconsolidated position screen, will be extremely difficult and time \\nconsuming.  Throughout the meeting on Wednesday, Keith alluded to the \\ninability to get consensus amongst the traders on the presentation of the \\nconsolidated position, so the solution was to make it so that a trader can \\narrange the position screen to their liking (much like Excel). What needs to \\nhappen on Monday from 3 - 5 is a effort to design a desired layout for the \\nconsolidated position screen, this is critical. This does not exclude \\nbuilding a capability to create a more flexible position presentation for the \\nfuture, but in order to create a plan that can be measured we need firm \\nrequirements. Also, to reiterate that the goals of this project is a project \\nplan on consolidate physical/financial positions and transport trade capture. \\nThe other issues that have been raised will be capture as projects on to \\nthemselves, and will need to be prioritised as efforts outside of this \\nproject.\\n\\nI have been involved in most of the meetings and the discussions have been \\ngood. I believe there has been good communication between the teams, but now \\nwe need to have focus on the objectives we set out to solve.\\n\\nRichard  \\n---------------------- Forwarded by Richard Burchfield/HOU/ECT on 10/06/2000 \\n08:34 AM ---------------------------\\n\\n\\nAllan Severude\\n10/05/2000 06:03 PM\\nTo: Richard Burchfield/HOU/ECT@ECT\\ncc: Peggy Alix/HOU/ECT@ECT, Russ Severson/HOU/ECT@ECT, Scott \\nMills/HOU/ECT@ECT, Kenny Ha/HOU/ECT@ECT \\nSubject: Consolidated positions: Issues & To Do list\\n\\n\\nFrom our initial set of meetings with the traders regarding consolidated \\npositions, I think we still have the following issues:\\nWe don\\'t have a single point of contact from the trading group.  We\\'ve had \\nthree meetings which brought out very different issues from different \\ntraders.  We really need a single point of contact to help drive the trader \\nrequirements and help come to a consensus regarding the requirements.\\nWe\\'re getting hit with a lot of different requests, many of which appear to \\nbe outside the scope of position consolidation.\\n\\nThings left to do:\\nI think it may be useful to try to formulate a high level project goal to \\nmake it as clear as possible what we\\'re trying to accomplish with this \\nproject.  It\\'ll help determine which requests fall under the project scope.\\nGo through the list of requests to determine which are in scope for this \\nproject and which fall out of scope.\\nFor those in scope, work to define relative importance (priority) of each and \\nwork with traders to define the exact requirements of each.\\nDefine the desired lay out of the position manager screen: main view and all \\ndrill downs.\\nUse the above to formulate a project plan.\\n\\nThings requested thus far (no particular order):\\nInclusion of Sitara physical deals into the TDS position manager and deal \\nticker.\\nCustomized rows and columns in the position manager (ad hoc rows/columns that \\nadd up existing position manager rows/columns).\\nNew drill down in the position manager to break out positions by: physical, \\ntransport, swaps, options, ...\\nAddition of a curve tab to the position manager to show the real-time values \\nof all curves on which the desk has a position.\\nAbility to split the current position grid to allow daily positions to be \\nshown directly above monthly positions.  Each grouped column in the top grid \\nwould be tied to a grouped column in the bottom grid.\\nAbility to properly show curve shift for float-for-float deals; determine the \\nappropriate positions to show for each:\\nGas Daily for monthly index,\\nPhysical gas for Nymex,\\nPhysical gas for Inside Ferc,\\nPhysical gas for Mid market.\\nAbility for TDS to pull valuation results based on a TDS flag instead of \\nusing official valuations.\\nPosition and P&L aggregation across all gas desks.\\nAbility to include the Gas Price book into TDS:\\nInclusion of spread options in our systems.  Ability to handle volatility \\nskew and correlations.\\nAbility to revalue all options incrementally throughout the trading day.  \\nApproximate delta changes between valuations using instantaneous gamma or a \\ngamma grid.\\nValuation of Gas Daily options.\\nA new position screen for options (months x strike x delta).  TBD.\\nInclusion of positions for exotic options currently managed in spreadsheets.\\nAbility to isolate the position change due to changed deals in the position \\nmanager.\\nAbility to view change deal P&L in the TDS deal ticker.  Show new deal terms, \\nprior deal terms, and net P&L affect of the change.\\nEliminate change deals with no economic impact from the TDS deal ticker.\\nPosition drill down in the position manager to isolate the impact of \\nindividual deals on the position total in a grid cell.\\nBenchmark positions in TDS.\\nDeployment of TDS in Canada. Currency and volume uom conversions. Implicit \\nand explicit position break out issues.\\n\\n-- Allan.\\n\\nPS: Colleen is setting up a meeting tomorrow to discuss the direction for \\ntransport.  Hopefully we\\'ll know much better where that part stands at that \\npoint.\\n\\n\\n\\n\\n\"\\n\"allen-p/_sent_mail/107.\",\"Message-ID: <2465689.1075855687605.JavaMail.evans@thyme>\\nDate: Thu, 5 Oct 2000 06:26:00 -0700 (PDT)\\nFrom: phillip.allen@enron.com\\nTo: david.delainey@enron.com\\nSubject: \\nMime-Version: 1.0\\nContent-Type: text/plain; charset=us-ascii\\nContent-Transfer-Encoding: 7bit\\nX-From: Phillip K Allen\\nX-To: David W Delainey\\nX-cc: \\nX-bcc: \\nX-Folder: \\\\Phillip_Allen_Dec2000\\\\Notes Folders\\\\\\'sent mail\\nX-Origin: Allen-P\\nX-FileName: pallen.nsf\\n\\nDave, \\n\\n Here are the names of the west desk members by category.  The origination \\nside is very sparse.  \\n\\n\\n\\n\\n\\nPhillip\\n\"\\n\"allen-p/_sent_mail/108.\",\"Message-ID: <1115198.1075855687626.JavaMail.evans@thyme>\\nDate: Thu, 5 Oct 2000 05:55:00 -0700 (PDT)\\nFrom: phillip.allen@enron.com\\nTo: paula.harris@enron.com\\nSubject: Re: 2001 Margin Plan\\nMime-Version: 1.0\\nContent-Type: text/plain; charset=us-ascii\\nContent-Transfer-Encoding: 7bit\\nX-From: Phillip K Allen\\nX-To: Paula Harris\\nX-cc: \\nX-bcc: \\nX-Folder: \\\\Phillip_Allen_Dec2000\\\\Notes Folders\\\\\\'sent mail\\nX-Origin: Allen-P\\nX-FileName: pallen.nsf\\n\\nPaula,\\n\\n 35 million is fine\\n\\nPhillip\"\\n\"allen-p/_sent_mail/109.\",\"Message-ID: <19773657.1075855687649.JavaMail.evans@thyme>\\nDate: Wed, 4 Oct 2000 09:23:00 -0700 (PDT)\\nFrom: phillip.allen@enron.com\\nTo: ina.rangel@enron.com\\nSubject: Var, Reporting and Resources Meeting\\nMime-Version: 1.0\\nContent-Type: text/plain; charset=us-ascii\\nContent-Transfer-Encoding: 7bit\\nX-From: Phillip K Allen\\nX-To: Ina Rangel\\nX-cc: \\nX-bcc: \\nX-Folder: \\\\Phillip_Allen_Dec2000\\\\Notes Folders\\\\\\'sent mail\\nX-Origin: Allen-P\\nX-FileName: pallen.nsf\\n\\n---------------------- Forwarded by Phillip K Allen/HOU/ECT on 10/04/2000 \\n04:23 PM ---------------------------\\n   \\n\\tEnron North America Corp.\\n\\t\\n\\tFrom:  Airam Arteaga                           10/04/2000 12:23 PM\\n\\t\\n\\nTo: Phillip K Allen/HOU/ECT@ECT, Thomas A Martin/HOU/ECT@ECT, Scott \\nNeal/HOU/ECT@ECT, John Arnold/HOU/ECT@ECT, Grant Masson/HOU/ECT@ECT, Ted \\nMurphy/HOU/ECT@ECT, Vladimir Gorny/HOU/ECT@ECT, Frank Hayden/Corp/Enron@Enron\\ncc: Rita Hennessy/NA/Enron@Enron, Ina Rangel/HOU/ECT@ECT, Laura \\nHarder/Corp/Enron@Enron, Kimberly Brown/HOU/ECT@ECT, Araceli \\nRomero/NA/Enron@Enron, Kimberly Hillis/HOU/ECT@ect \\nSubject: Var, Reporting and Resources Meeting\\n\\nPlease plan to attend the below  Meeting:\\n\\n\\n                                Topic:  Var, Reporting and Resources Meeting\\n        \\n  Date:  Wednesday, October 11th\\n\\n  Time:  2:30 - 3:30 \\n\\n  Location: EB30C1\\n\\n  \\n\\n If you have any questions/conflicts, please feel free to call me.\\n\\nThanks,\\nRain\\nx.31560\\n\\n\\n\\n\\n\\n\\n\"\\n\"allen-p/_sent_mail/11.\",\"Message-ID: <7391389.1075855378477.JavaMail.evans@thyme>\\nDate: Fri, 4 May 2001 11:26:00 -0700 (PDT)\\nFrom: phillip.allen@enron.com\\nTo: tim.heizenrader@enron.com\\nSubject: \\nMime-Version: 1.0\\nContent-Type: text/plain; charset=us-ascii\\nContent-Transfer-Encoding: 7bit\\nX-From: Phillip K Allen\\nX-To: Tim Heizenrader <Tim Heizenrader/Enron@EnronXGate>\\nX-cc: \\nX-bcc: \\nX-Folder: \\\\Phillip_Allen_Jan2002_1\\\\Allen, Phillip K.\\\\\\'Sent Mail\\nX-Origin: Allen-P\\nX-FileName: pallen (Non-Privileged).pst\\n\\nTim,\\n\\nmike grigsby is having problems with accessing the west power site.  Can you please make sure he has an active password.  \\n\\nThank you,\\n\\nPhillip\"\\n\"allen-p/_sent_mail/110.\",\"Message-ID: <12759088.1075855687671.JavaMail.evans@thyme>\\nDate: Tue, 3 Oct 2000 09:30:00 -0700 (PDT)\\nFrom: phillip.allen@enron.com\\nTo: pallen70@hotmail.com\\nSubject: Westgate\\nMime-Version: 1.0\\nContent-Type: text/plain; charset=us-ascii\\nContent-Transfer-Encoding: 7bit\\nX-From: Phillip K Allen\\nX-To: pallen70@hotmail.com\\nX-cc: \\nX-bcc: \\nX-Folder: \\\\Phillip_Allen_Dec2000\\\\Notes Folders\\\\\\'sent mail\\nX-Origin: Allen-P\\nX-FileName: pallen.nsf\\n\\n---------------------- Forwarded by Phillip K Allen/HOU/ECT on 10/03/2000 \\n04:30 PM ---------------------------\\n\\n\\n\"\"George Richards\"\" <cbpres@austin.rr.com> on 10/03/2000 06:35:56 AM\\nPlease respond to <cbpres@austin.rr.com>\\nTo: \"\"Phillip Allen\"\" <pallen@enron.com>\\ncc: \"\"Larry Lewter\"\" <retwell@mail.sanmarcos.net> \\nSubject: Westgate\\n\\n\\nWestgate\\n\\nEnclosed are demographics on the Westgate site from Investor\\'s Alliance.\\nInvestor\\'s Alliance says that these demographics are similar to the package\\non San Marcos that you received earlier.\\nIf there are any other questions or information requirements, let me know.\\nThen, let me know your interest level in the Westgate project?\\n\\nSan Marcos\\nThe property across the street from the Sagewood units in San Marcos is for\\nsale and approved for 134 units.  The land is selling for $2.50 per square\\nfoot as it is one of only two remaining approved multifamily parcels in West\\nSan Marcos, which now has a moratorium on development.\\n\\nSeveral new studies we have looked at show that the rents for our duplexes\\nand for these new units are going to be significantly higher, roughly $1.25\\nper square foot if leased for the entire unit on a 12-month lease and\\n$1.30-$1.40 psf if leased on a 12-month term, but by individual room.  This\\nproperty will have the best location for student housing of all new\\nprojects, just as the duplexes do now.\\n\\nIf this project is of serious interest to you, please let me know as there\\nis a very, very short window of opportunity.  The equity requirement is not\\nyet known, but it would be likely to be $300,000 to secure the land.  I will\\nknow more on this question later today.\\n\\nSincerely,\\n\\nGeorge W. Richards\\nPresident, Creekside Builders, LLC\\n\\n\\n - winmail.dat\\n\"\\n\"allen-p/_sent_mail/111.\",\"Message-ID: <29177675.1075855687692.JavaMail.evans@thyme>\\nDate: Tue, 3 Oct 2000 09:15:00 -0700 (PDT)\\nFrom: phillip.allen@enron.com\\nTo: ina.rangel@enron.com\\nSubject: Meeting re: Storage Strategies in the West\\nMime-Version: 1.0\\nContent-Type: text/plain; charset=us-ascii\\nContent-Transfer-Encoding: 7bit\\nX-From: Phillip K Allen\\nX-To: Ina Rangel\\nX-cc: \\nX-bcc: \\nX-Folder: \\\\Phillip_Allen_Dec2000\\\\Notes Folders\\\\\\'sent mail\\nX-Origin: Allen-P\\nX-FileName: pallen.nsf\\n\\n---------------------- Forwarded by Phillip K Allen/HOU/ECT on 10/03/2000 \\n04:13 PM ---------------------------\\n\\n\\nNancy Hall@ENRON\\n10/02/2000 06:42 AM\\nTo: Mark Whitt/NA/Enron@Enron, Phillip K Allen/HOU/ECT@ECT, Paul T \\nLucci/NA/Enron@Enron, Paul Bieniawski/Corp/Enron@ENRON, Tyrell \\nHarrison/NA/Enron@Enron\\ncc: Jean Mrha/NA/Enron@Enron, Ina Rangel/HOU/ECT@ECT, Monica \\nJackson/Corp/Enron@ENRON \\nSubject: Meeting re: Storage Strategies in the West\\n\\nThere will be a meeting on Tuesday, Oct. 10th at 4:00pm in EB3270 regarding \\nStorage Strategies in the West.  Please mark your calendars.\\n\\nThank you!\\n\\nRegards,\\nNancy Hall\\nENA Denver office\\n303-575-6490\\n\"\\n\"allen-p/_sent_mail/112.\",\"Message-ID: <24729148.1075855687713.JavaMail.evans@thyme>\\nDate: Tue, 3 Oct 2000 09:13:00 -0700 (PDT)\\nFrom: phillip.allen@enron.com\\nTo: bs_stone@yahoo.com\\nSubject: \\nMime-Version: 1.0\\nContent-Type: text/plain; charset=us-ascii\\nContent-Transfer-Encoding: 7bit\\nX-From: Phillip K Allen\\nX-To: bs_stone@yahoo.com\\nX-cc: \\nX-bcc: \\nX-Folder: \\\\Phillip_Allen_Dec2000\\\\Notes Folders\\\\\\'sent mail\\nX-Origin: Allen-P\\nX-FileName: pallen.nsf\\n\\nBrenda,\\n\\nPlease use the second check as the October payment.  If you have already \\ntossed it, let me know so I can mail you another.\\n\\nPhillip\"\\n\"allen-p/_sent_mail/113.\",\"Message-ID: <17610321.1075855687735.JavaMail.evans@thyme>\\nDate: Tue, 3 Oct 2000 03:17:00 -0700 (PDT)\\nFrom: phillip.allen@enron.com\\nTo: stouchstone@natsource.com\\nSubject: Re: Not business related..\\nMime-Version: 1.0\\nContent-Type: text/plain; charset=us-ascii\\nContent-Transfer-Encoding: 7bit\\nX-From: Phillip K Allen\\nX-To: Steve Touchstone <STouchstone@natsource.com>\\nX-cc: \\nX-bcc: \\nX-Folder: \\\\Phillip_Allen_Dec2000\\\\Notes Folders\\\\\\'sent mail\\nX-Origin: Allen-P\\nX-FileName: pallen.nsf\\n\\nI think Fletch has a good CPA.  I am still doing my own.  \"\\n\"allen-p/_sent_mail/114.\",\"Message-ID: <26575732.1075855687756.JavaMail.evans@thyme>\\nDate: Mon, 2 Oct 2000 02:19:00 -0700 (PDT)\\nFrom: phillip.allen@enron.com\\nTo: bs_stone@yahoo.com\\nSubject: Re: Original Sept check/closing\\nMime-Version: 1.0\\nContent-Type: text/plain; charset=us-ascii\\nContent-Transfer-Encoding: 7bit\\nX-From: Phillip K Allen\\nX-To: \"\"BS Stone\"\" <bs_stone@yahoo.com> @ ENRON\\nX-cc: \\nX-bcc: \\nX-Folder: \\\\Phillip_Allen_Dec2000\\\\Notes Folders\\\\\\'sent mail\\nX-Origin: Allen-P\\nX-FileName: pallen.nsf\\n\\nBrenda,\\n\\n Please use the second check as my October payment.  I have my copy of the \\noriginal deal.  Do you want me to fax this to you?\\n\\nPhillip\"\\n\"allen-p/_sent_mail/115.\",\"Message-ID: <15294346.1075855687778.JavaMail.evans@thyme>\\nDate: Thu, 28 Sep 2000 06:17:00 -0700 (PDT)\\nFrom: phillip.allen@enron.com\\nTo: lkuch@mh.com\\nSubject: San Juan Index\\nMime-Version: 1.0\\nContent-Type: text/plain; charset=us-ascii\\nContent-Transfer-Encoding: 7bit\\nX-From: Phillip K Allen\\nX-To: Lkuch@mh.com\\nX-cc: \\nX-bcc: \\nX-Folder: \\\\Phillip_Allen_Dec2000\\\\Notes Folders\\\\\\'sent mail\\nX-Origin: Allen-P\\nX-FileName: pallen.nsf\\n\\n---------------------- Forwarded by Phillip K Allen/HOU/ECT on 09/28/2000 \\n01:09 PM ---------------------------\\n   \\n\\t\\n\\t\\n\\tFrom:  Phillip K Allen                           09/28/2000 10:56 AM\\n\\t\\n\\n\\nLiane,\\n\\n As we discussed yesterday, I am concerned there may have been an attempt to \\nmanipulate the  El Paso San Juan monthly index.  It appears that a single \\nbuyer entered the marketplace on both September 26 and 27 and paid above \\nmarket prices ($4.70-$4.80) for San Juan gas.  At the time of these trades, \\noffers for physical gas at significantly (10 to 15 cents) lower prices were \\nbypassed in order to establish higher trades to report into the index \\ncalculation.  Additionally, these trades are out of line with the associated \\nfinancial swaps for San Juan.\\n\\n We have compiled a list of financial and physical trades executed from \\nSeptember 25 to September 27.  These are the complete list of trades from \\nEnron Online (EOL), Enron\\'s direct phone conversations, and three brokerage \\nfirms (Amerex, APB, and Prebon).  Please see the attached spreadsheet for a \\ntrade by trade list and a summary.  We have also included a summary of gas \\ndaily prices to illustrate the value of San Juan based on several spread \\nrelationships.  The two key points from this data are as follows:\\n\\n 1.  The high physical prices on the 26th & 27th (4.75,4,80) are much greater \\nthan the high financial trades (4.6375,4.665) on those days. \\n\\n 2.  The spread relationship between San Juan and other points (Socal & \\nNorthwest)  is  consistent between the end of September and \\n       October gas daily.  It doesn\\'t make sense to have monthly indices that \\nare dramatically different.\\n\\n\\n I understand you review the trades submitted for outliers.  Hopefully, the \\ntrades submitted will reveal counterparty names and you will be able to \\ndetermine that there was only one buyer in the 4.70\\'s and these trades are \\noutliers.  I wanted to give you some additional points of reference to aid in \\nestablishing a reasonable index.  It is Enron\\'s belief that the trades at \\n$4.70 and higher  were above market trades that should be excluded from the \\ncalculation of index.\\n\\n It is our desire to have reliable and accurate indices against which to \\nconduct our physical and financial business.  Please contact me \\nanytime I can assist you towards this goal.\\n\\nSincerely,\\n\\nPhillip Allen\\n\\n\\n\"\\n\"allen-p/_sent_mail/116.\",\"Message-ID: <25140503.1075855687800.JavaMail.evans@thyme>\\nDate: Thu, 28 Sep 2000 05:56:00 -0700 (PDT)\\nFrom: phillip.allen@enron.com\\nTo: jeffrey.hodge@enron.com\\nSubject: San Juan Index\\nMime-Version: 1.0\\nContent-Type: text/plain; charset=us-ascii\\nContent-Transfer-Encoding: 7bit\\nX-From: Phillip K Allen\\nX-To: Jeffrey T Hodge\\nX-cc: \\nX-bcc: \\nX-Folder: \\\\Phillip_Allen_Dec2000\\\\Notes Folders\\\\\\'sent mail\\nX-Origin: Allen-P\\nX-FileName: pallen.nsf\\n\\nLiane,\\n\\n As we discussed yesterday, I am concerned there has been an attempt to \\nmanipulate the  El Paso San Juan monthly index.  A single buyer entered the \\nmarketplace on both September 26 and 27 and paid above market prices \\n($4.70-$4.80) for San Juan gas with the intent to distort the index.  At the \\ntime of these trades, offers for physical gas at significantly (10 to 15 \\ncents) lower prices were bypassed in order to establish higher trades to \\nreport into the index calculation.  Additionally, these trades are out of \\nline with the associated financial swaps for San Juan.\\n\\n We have compiled a list of financial and physical trades executed from \\nSeptember 25 to September 27.  These are the complete list of trades from \\nEnron Online (EOL), Enron\\'s direct phone conversations, and three brokerage \\nfirms (Amerex, APB, and Prebon).  Please see the attached spreadsheet for a \\ntrade by trade list and a summary.  We have also included a summary of gas \\ndaily prices to illustrate the value of San Juan based on several spread \\nrelationships.  The two key points from this data are as follows:\\n\\n 1.  The high physical prices on the 26th & 27th (4.75,4,80) are much greater \\nthan the high financial trades (4.6375,4.665) on those days. \\n\\n 2.  The spread relationship between San Juan and other points (Socal & \\nNorthwest)  is  consistent between the end of September and \\n       October gas daily.  It doesn\\'t make sense to have monthly indeces that \\nare dramatically different.\\n\\n\\n I understand you review the trades submitted for outliers.  Hopefully, the \\ntrades submitted will reveal counterparty names and you will be able to \\ndetermine that there was only one buyer in the 4.70\\'s and these trades are \\noutliers.  I wanted to give you some additional points of reference to aid in \\nestablishing a reasonable index.  It is Enron\\'s belief that the trades at \\n$4.70 and higher  were above market trades that should be excluded from the \\ncalculation of index.\\n\\n It is our desire to have reliable and accurate indeces against which to \\nconduct our physical and financial business.  Please contact me \\nanytime I can assist you towards this goal.\\n\\nSincerely,\\n\\nPhillip Allen\\n\"\\n\"allen-p/_sent_mail/117.\",\"Message-ID: <19034252.1075855687825.JavaMail.evans@thyme>\\nDate: Tue, 26 Sep 2000 09:28:00 -0700 (PDT)\\nFrom: phillip.allen@enron.com\\nTo: kholst@enron.com\\nSubject: Investment Structure\\nMime-Version: 1.0\\nContent-Type: text/plain; charset=us-ascii\\nContent-Transfer-Encoding: 7bit\\nX-From: Phillip K Allen\\nX-To: kholst@enron.com\\nX-cc: \\nX-bcc: \\nX-Folder: \\\\Phillip_Allen_Dec2000\\\\Notes Folders\\\\\\'sent mail\\nX-Origin: Allen-P\\nX-FileName: pallen.nsf\\n\\n---------------------- Forwarded by Phillip K Allen/HOU/ECT on 09/26/2000 \\n04:28 PM ---------------------------\\n\\n\\n\"\"George Richards\"\" <cbpres@austin.rr.com> on 09/26/2000 01:18:45 PM\\nPlease respond to <cbpres@austin.rr.com>\\nTo: \"\"Phillip Allen\"\" <pallen@enron.com>\\ncc: \"\"Larry Lewter\"\" <retwell@mail.sanmarcos.net>, \"\"Claudia L. Crocker\"\" \\n<clclegal2@aol.com> \\nSubject: Investment Structure\\n\\n\\nSTRUCTURE:\\nTypically the structure is a limited partnership with a corporate (or LLC)\\ngeneral partner.  The General Partner owns 1% of the project and carries the\\nliability of construction.\\n\\nLAND OWNERSHIP & LOANS\\nThe property would be purchased in the name of the limited partnership and\\nany land loans, land improvements loans and construction loans would be in\\nthe name of the limited partnership.  Each of the individual investors and\\nall of the principals in Creekside would also personally guarantee the\\nloans.  If the investor(s) do not sign on the loans, this generally means\\nthat a larger amount of cash is required and the investor\\'s share of profits\\nis reduced.\\n\\nAll loans for residential construction, that are intended for re-sale, are\\nfull recourse loans.  If we are pursuing multifamily rental developments,\\nthe construction loans are still full recourse but the mortgage can often be\\nnon-recourse.\\n\\nUSE OF INITIAL INVESTMENT\\nThe initial investment is used for land deposit, engineering &\\narchitectural design, soils tests, surveys, filing fees, legal fees for\\norganization and condominium association formation,  and appraisals.  Unlike\\nmany real estate investment programs, none of the funds are used for fees to\\nCreekside Builders, LLC.  These professional expenses will be incurred over\\nthe estimated 6 month design and approval period.\\n\\nEARLY LAND COSTS\\nThe $4,000 per month costs listed in the cash flow as part of land cost\\nrepresent the extension fees due to the seller for up to 4 months of\\nextensions on closing.  As an alternative, we can close into a land loan at\\nprobably 70% of appraised value.  With a land value equal to the purchase\\nprice of $680,000 this would mean a land loan of $476,000 with estimated\\nmonthly interest payments of $3,966, given a 10% annual interest rate, plus\\napproximately 1.25% of the loan amount for closing costs and loan fees.\\n\\nEQUITY AT IMPROVEMENT LOAN\\nOnce the site plan is approved by the City of Austin, the City will require\\nthe development entity to post funds for fiscal improvements, referred to as\\nthe \"\"fiscals\"\".  This cost represents a bond for the completion of\\nimprovements that COA considers vital and these funds are released once the\\nimprovements have been completed and accepted by COA.  This release will be\\nfor 90% of the cost with the remaining 10% released one year after\\ncompletion.  Releases can be granted once every 90 days and you should\\nexpect that the release would occur 6 months after the start of lot\\nimprovement construction.  These fiscals are usually posted in cash or an\\nirrevocable letter of credit.  As such, they have to be counted as a\\ndevelopment cost, even though they are not spent.  Because they are not\\nspent no interest is charged on these funds.\\n\\nThe lot improvement loan is typically 75% of the appraised value of a\\nfinished lot, which I suspect will be at least $20,000 and potentially as\\nhigh as $25,000.  This would produce a loan amount of  $15,000 on $20,000\\nper lot.  With estimated per lot improvement costs of $9,000, \\'fiscals\\' at\\n$2,000 and the land cost at $8,000 , total improved lot cost is $19,000\\nwhich means $0 to $4,000 per lot in total equity.  The investment prior to\\nobtaining the improvement loan would count towards any equity requirement\\nprovided it was for direct costs.  Thus, the additional equity for the\\nimprovement loan would be $0-$184,000.   Even if the maximum loan would\\ncover all costs, it is unlikely the bank would allow reimbursement of funds\\nspent. The higher estimates of equity investments are shown in the\\npreliminary proforma to be on the safe side.  The engineer is preparing a\\ntentative site layout with an initial evaluation of the phasing, which can\\nsignificantly reduce the cash equity requirement.\\n\\nPhasing works as follows.  If the first phase was say 40 units, the total\\nlot improvement cost might average $31,000 per lot.   Of this, probably\\n$13,000 would be for improvements and $19,000 for the land cost.  The\\nimprovements are higher to cover large one time up front costs for design\\ncosts, the entry road, water treatment costs, perimeter fencing and\\nlandscaping, and so on, as well as for 100% of the land.  The land loan for\\nundeveloped lots would be 70% of the appraised raw lot value, which I would\\nestimate as $10,000 per lot for a loan value of $7,000 per lot.  Then the\\nloan value for each improved lot would be $15,000 per lot.  This would give\\nyou a total loan of $992,000, total cost of $1,232,645 for equity required\\nof $241,000.  This was not presented in the initial analysis as the phasing\\nis depended on a more careful assessment by the Civil Engineer as the\\nseparate phases must each be able to stand on its own from a utility\\nstandpoint.\\n\\nCONSTRUCTION LOANS\\nThere are three types of  construction loans.  First, is a speculative\\n(spec) loan that is taken out prior to any pre-sales activity.  Second,  is\\na construction loan for a pre-sold unit, but the loan remains in the\\nbuilder/developers name.  Third, is a pre-sold unit with the construction\\nloan in the name of the buyer.  We expect to have up to 8 spec loans to\\nstart the project and expect all other loans to be pre-sold units with loans\\nin the name of the builder/developer.  We do not expect to have any\\nconstruction loans in the name of the buyers, as such loans are too\\ndifficult to manage and please new buyers unfamiliar with the process.\\n\\nSpec loans will be for 70% to 75% of value and construction loans for\\npre-sold units, if the construction loan is from the mortgage lender,  will\\nbe from 80% to 95% of value.\\n\\nDISBURSEMENTS\\nDisbursements will be handled by the General Partner to cover current and\\nnear term third party costs, then to necessary reserves, then to priority\\npayments and then to the partners per the agreement.  The General Partner\\nwill contract with Creekside Builders, LLC to construct the units and the\\nfee to CB will include a construction management and overhead fee equal to\\n15% of the direct hard cost excluding land, financing and sales costs.\\nThese fees are the only monies to Creekside, Larry Lewter or myself prior to\\ncalculation of profit, except for a) direct reimbursement for partnership\\nexpenses and b) direct payment to CB for any subcontractor costs that it has\\nto perform.  For example, if CB cannot find a good trim carpenter sub, or\\ncannot find enough trim carpenters, etc., and it decides to undertake this\\nfunction, it will charge the partnership the same fee it was able to obtain\\nfrom third parties and will disclose those cases to the partnership.\\nFinally, CB will receive a fee for the use of any of its equipment if it is\\nused in lieu of leasing equipment from others.  At present CB does not own\\nany significant equipment, but it is considering the purchase of a sky track\\nto facilitate and speed up framing, cornice, roofing and drywall spreading.\\n\\nREPORTING\\nWe are more than willing to provide reports to track expenses vs. plan.\\nWhat did you have in mind?  I would like to use some form of internet based\\nreporting.\\n\\nBOOKKEEPING\\nI am not sure what you are referring to by the question, \"\"Bookkeeping\\nprocedures to record actual expenses?\"\"  Please expand.\\n\\nINVESTOR INPUT\\nWe are glad to have the investor\\'s input on design and materials.  As always\\nthe question will be who has final say if there is disagreement, but in my\\nexperience I have always been able to reach consensus. As you, and I presume\\nKeith, want to be involved to learn as much as possible we would make every\\neffort to be accommodating.\\n\\nCREEKSIDE PROCEEDURES\\nCB procedures for dealing with subs, vendors and professionals is not as\\nformal as your question indicates.  In the EXTREMELY tight labor market\\nobtaining 3 bids for each labor trade is not feasible.  For the professional\\nsubs we use those with whom we have developed a previous rapport.  Finally,\\nfor vendors they are constantly shopped.\\n\\nPRE-SELECTED PROFESSIONALS, SUBS AND VENDORS\\nYes there are many different subs that have been identified and I can\\nprovide these if you are interested.\\n\\nI know I have not answered everything, but this is a starting point.  Call\\nwhen you have reviewed and we can discuss further.\\n\\nSincerely,\\n\\nGeorge Richards\\nPresident, Creekside Builders, LLC\\n\\n\\n\\n\\n - winmail.dat\\n\"\\n\"allen-p/_sent_mail/118.\",\"Message-ID: <719350.1075855687850.JavaMail.evans@thyme>\\nDate: Tue, 26 Sep 2000 09:26:00 -0700 (PDT)\\nFrom: phillip.allen@enron.com\\nTo: pallen70@hotmail.com\\nSubject: Investment Structure\\nMime-Version: 1.0\\nContent-Type: text/plain; charset=us-ascii\\nContent-Transfer-Encoding: 7bit\\nX-From: Phillip K Allen\\nX-To: pallen70@hotmail.com\\nX-cc: \\nX-bcc: \\nX-Folder: \\\\Phillip_Allen_Dec2000\\\\Notes Folders\\\\\\'sent mail\\nX-Origin: Allen-P\\nX-FileName: pallen.nsf\\n\\n---------------------- Forwarded by Phillip K Allen/HOU/ECT on 09/26/2000 \\n04:26 PM ---------------------------\\n\\n\\n\"\"George Richards\"\" <cbpres@austin.rr.com> on 09/26/2000 01:18:45 PM\\nPlease respond to <cbpres@austin.rr.com>\\nTo: \"\"Phillip Allen\"\" <pallen@enron.com>\\ncc: \"\"Larry Lewter\"\" <retwell@mail.sanmarcos.net>, \"\"Claudia L. Crocker\"\" \\n<clclegal2@aol.com> \\nSubject: Investment Structure\\n\\n\\nSTRUCTURE:\\nTypically the structure is a limited partnership with a corporate (or LLC)\\ngeneral partner.  The General Partner owns 1% of the project and carries the\\nliability of construction.\\n\\nLAND OWNERSHIP & LOANS\\nThe property would be purchased in the name of the limited partnership and\\nany land loans, land improvements loans and construction loans would be in\\nthe name of the limited partnership.  Each of the individual investors and\\nall of the principals in Creekside would also personally guarantee the\\nloans.  If the investor(s) do not sign on the loans, this generally means\\nthat a larger amount of cash is required and the investor\\'s share of profits\\nis reduced.\\n\\nAll loans for residential construction, that are intended for re-sale, are\\nfull recourse loans.  If we are pursuing multifamily rental developments,\\nthe construction loans are still full recourse but the mortgage can often be\\nnon-recourse.\\n\\nUSE OF INITIAL INVESTMENT\\nThe initial investment is used for land deposit, engineering &\\narchitectural design, soils tests, surveys, filing fees, legal fees for\\norganization and condominium association formation,  and appraisals.  Unlike\\nmany real estate investment programs, none of the funds are used for fees to\\nCreekside Builders, LLC.  These professional expenses will be incurred over\\nthe estimated 6 month design and approval period.\\n\\nEARLY LAND COSTS\\nThe $4,000 per month costs listed in the cash flow as part of land cost\\nrepresent the extension fees due to the seller for up to 4 months of\\nextensions on closing.  As an alternative, we can close into a land loan at\\nprobably 70% of appraised value.  With a land value equal to the purchase\\nprice of $680,000 this would mean a land loan of $476,000 with estimated\\nmonthly interest payments of $3,966, given a 10% annual interest rate, plus\\napproximately 1.25% of the loan amount for closing costs and loan fees.\\n\\nEQUITY AT IMPROVEMENT LOAN\\nOnce the site plan is approved by the City of Austin, the City will require\\nthe development entity to post funds for fiscal improvements, referred to as\\nthe \"\"fiscals\"\".  This cost represents a bond for the completion of\\nimprovements that COA considers vital and these funds are released once the\\nimprovements have been completed and accepted by COA.  This release will be\\nfor 90% of the cost with the remaining 10% released one year after\\ncompletion.  Releases can be granted once every 90 days and you should\\nexpect that the release would occur 6 months after the start of lot\\nimprovement construction.  These fiscals are usually posted in cash or an\\nirrevocable letter of credit.  As such, they have to be counted as a\\ndevelopment cost, even though they are not spent.  Because they are not\\nspent no interest is charged on these funds.\\n\\nThe lot improvement loan is typically 75% of the appraised value of a\\nfinished lot, which I suspect will be at least $20,000 and potentially as\\nhigh as $25,000.  This would produce a loan amount of  $15,000 on $20,000\\nper lot.  With estimated per lot improvement costs of $9,000, \\'fiscals\\' at\\n$2,000 and the land cost at $8,000 , total improved lot cost is $19,000\\nwhich means $0 to $4,000 per lot in total equity.  The investment prior to\\nobtaining the improvement loan would count towards any equity requirement\\nprovided it was for direct costs.  Thus, the additional equity for the\\nimprovement loan would be $0-$184,000.   Even if the maximum loan would\\ncover all costs, it is unlikely the bank would allow reimbursement of funds\\nspent. The higher estimates of equity investments are shown in the\\npreliminary proforma to be on the safe side.  The engineer is preparing a\\ntentative site layout with an initial evaluation of the phasing, which can\\nsignificantly reduce the cash equity requirement.\\n\\nPhasing works as follows.  If the first phase was say 40 units, the total\\nlot improvement cost might average $31,000 per lot.   Of this, probably\\n$13,000 would be for improvements and $19,000 for the land cost.  The\\nimprovements are higher to cover large one time up front costs for design\\ncosts, the entry road, water treatment costs, perimeter fencing and\\nlandscaping, and so on, as well as for 100% of the land.  The land loan for\\nundeveloped lots would be 70% of the appraised raw lot value, which I would\\nestimate as $10,000 per lot for a loan value of $7,000 per lot.  Then the\\nloan value for each improved lot would be $15,000 per lot.  This would give\\nyou a total loan of $992,000, total cost of $1,232,645 for equity required\\nof $241,000.  This was not presented in the initial analysis as the phasing\\nis depended on a more careful assessment by the Civil Engineer as the\\nseparate phases must each be able to stand on its own from a utility\\nstandpoint.\\n\\nCONSTRUCTION LOANS\\nThere are three types of  construction loans.  First, is a speculative\\n(spec) loan that is taken out prior to any pre-sales activity.  Second,  is\\na construction loan for a pre-sold unit, but the loan remains in the\\nbuilder/developers name.  Third, is a pre-sold unit with the construction\\nloan in the name of the buyer.  We expect to have up to 8 spec loans to\\nstart the project and expect all other loans to be pre-sold units with loans\\nin the name of the builder/developer.  We do not expect to have any\\nconstruction loans in the name of the buyers, as such loans are too\\ndifficult to manage and please new buyers unfamiliar with the process.\\n\\nSpec loans will be for 70% to 75% of value and construction loans for\\npre-sold units, if the construction loan is from the mortgage lender,  will\\nbe from 80% to 95% of value.\\n\\nDISBURSEMENTS\\nDisbursements will be handled by the General Partner to cover current and\\nnear term third party costs, then to necessary reserves, then to priority\\npayments and then to the partners per the agreement.  The General Partner\\nwill contract with Creekside Builders, LLC to construct the units and the\\nfee to CB will include a construction management and overhead fee equal to\\n15% of the direct hard cost excluding land, financing and sales costs.\\nThese fees are the only monies to Creekside, Larry Lewter or myself prior to\\ncalculation of profit, except for a) direct reimbursement for partnership\\nexpenses and b) direct payment to CB for any subcontractor costs that it has\\nto perform.  For example, if CB cannot find a good trim carpenter sub, or\\ncannot find enough trim carpenters, etc., and it decides to undertake this\\nfunction, it will charge the partnership the same fee it was able to obtain\\nfrom third parties and will disclose those cases to the partnership.\\nFinally, CB will receive a fee for the use of any of its equipment if it is\\nused in lieu of leasing equipment from others.  At present CB does not own\\nany significant equipment, but it is considering the purchase of a sky track\\nto facilitate and speed up framing, cornice, roofing and drywall spreading.\\n\\nREPORTING\\nWe are more than willing to provide reports to track expenses vs. plan.\\nWhat did you have in mind?  I would like to use some form of internet based\\nreporting.\\n\\nBOOKKEEPING\\nI am not sure what you are referring to by the question, \"\"Bookkeeping\\nprocedures to record actual expenses?\"\"  Please expand.\\n\\nINVESTOR INPUT\\nWe are glad to have the investor\\'s input on design and materials.  As always\\nthe question will be who has final say if there is disagreement, but in my\\nexperience I have always been able to reach consensus. As you, and I presume\\nKeith, want to be involved to learn as much as possible we would make every\\neffort to be accommodating.\\n\\nCREEKSIDE PROCEEDURES\\nCB procedures for dealing with subs, vendors and professionals is not as\\nformal as your question indicates.  In the EXTREMELY tight labor market\\nobtaining 3 bids for each labor trade is not feasible.  For the professional\\nsubs we use those with whom we have developed a previous rapport.  Finally,\\nfor vendors they are constantly shopped.\\n\\nPRE-SELECTED PROFESSIONALS, SUBS AND VENDORS\\nYes there are many different subs that have been identified and I can\\nprovide these if you are interested.\\n\\nI know I have not answered everything, but this is a starting point.  Call\\nwhen you have reviewed and we can discuss further.\\n\\nSincerely,\\n\\nGeorge Richards\\nPresident, Creekside Builders, LLC\\n\\n\\n\\n\\n - winmail.dat\\n\"\\n\"allen-p/_sent_mail/119.\",\"Message-ID: <10523086.1075855687873.JavaMail.evans@thyme>\\nDate: Tue, 26 Sep 2000 07:01:00 -0700 (PDT)\\nFrom: phillip.allen@enron.com\\nTo: ina.rangel@enron.com\\nSubject: \\nMime-Version: 1.0\\nContent-Type: text/plain; charset=us-ascii\\nContent-Transfer-Encoding: 7bit\\nX-From: Phillip K Allen\\nX-To: Ina Rangel\\nX-cc: \\nX-bcc: \\nX-Folder: \\\\Phillip_Allen_Dec2000\\\\Notes Folders\\\\\\'sent mail\\nX-Origin: Allen-P\\nX-FileName: pallen.nsf\\n\\n---------------------- Forwarded by Phillip K Allen/HOU/ECT on 09/26/2000 \\n02:00 PM ---------------------------\\n\\n\\n\\tReschedule\\nChairperson: Richard Burchfield\\nSent by: Cindy Cicchetti\\n\\nStart: 10/03/2000 02:30 PM\\nEnd: 10/03/2000 03:30 PM\\n\\nDescription: Gas Physical/Financail Positions - Room 2537\\n\\n\\n\\nThis meeting repeats   starting on    (if the date occurs on a weekend the \\nmeeting ).\\nMeeting Dates: \\n\\n\\n\\nFletcher J Sturm/HOU/ECT\\nScott Neal/HOU/ECT\\nHunter S Shively/HOU/ECT\\nPhillip K Allen/HOU/ECT\\nAllan Severude/HOU/ECT\\nScott Mills/HOU/ECT\\nRuss Severson/HOU/ECT\\n\\nDetailed description:\\n\\n\\n\\n---------------------- Forwarded by Phillip K Allen/HOU/ECT on 09/26/2000 \\n02:00 PM ---------------------------\\n\\n\\n\\tConfirmation\\nChairperson: Richard Burchfield\\nSent by: Cindy Cicchetti\\n\\nStart: 10/03/2000 02:30 PM\\nEnd: 10/03/2000 03:30 PM\\n\\nDescription: Gas Physical/Financail Positions - Room 2537\\n\\n\\n\\nThis meeting repeats   starting on    (if the date occurs on a weekend the \\nmeeting ).\\nMeeting Dates: \\n\\n\\n\\nFletcher J Sturm/HOU/ECT\\nScott Neal/HOU/ECT\\nHunter S Shively/HOU/ECT\\nPhillip K Allen/HOU/ECT\\nAllan Severude/HOU/ECT\\nScott Mills/HOU/ECT\\nRuss Severson/HOU/ECT\\n\\nDetailed description:\\n\\n\\nStatus update:\\nFletcher J Sturm -> No Response\\nScott Neal -> No Response\\nHunter S Shively -> No Response\\nPhillip K Allen -> No Response\\nAllan Severude -> Accepted\\nScott Mills -> Accepted\\nRuss Severson -> No Response\\n\\n\\n---------------------- Forwarded by Phillip K Allen/HOU/ECT on 09/26/2000 \\n02:00 PM ---------------------------\\n\\n\\n\\tReschedule\\nChairperson: Richard Burchfield\\nSent by: Cindy Cicchetti\\n\\nStart: 09/27/2000 02:00 PM\\nEnd: 09/27/2000 03:00 PM\\n\\nDescription: Gas Trading Vision Meeting - Room EB2601\\n\\n\\n\\nThis meeting repeats   starting on    (if the date occurs on a weekend the \\nmeeting ).\\nMeeting Dates: \\n\\n\\n\\nPhillip K Allen/HOU/ECT@ECT\\nHunter S Shively/HOU/ECT@ECT\\nScott Mills/HOU/ECT@ECT\\nAllan Severude/HOU/ECT@ECT\\nJeffrey C Gossett/HOU/ECT@ECT\\nColleen Sullivan/HOU/ECT@ECT\\nRuss Severson/HOU/ECT@ECT\\nJayant Krishnaswamy/HOU/ECT@ECT\\nRussell Long/HOU/ECT@ECT\\n\\nDetailed description:\\n\\n\\n\\n---------------------- Forwarded by Phillip K Allen/HOU/ECT on 09/26/2000 \\n02:00 PM ---------------------------\\n\\n\\n\\tConfirmation\\nChairperson: Richard Burchfield\\nSent by: Cindy Cicchetti\\n\\nStart: 09/27/2000 02:00 PM\\nEnd: 09/27/2000 03:00 PM\\n\\nDescription: Gas Trading Vision Meeting - Room EB2601\\n\\n\\n\\nThis meeting repeats   starting on    (if the date occurs on a weekend the \\nmeeting ).\\nMeeting Dates: \\n\\n\\n\\nPhillip K Allen/HOU/ECT@ECT\\nHunter S Shively/HOU/ECT@ECT\\nScott Mills/HOU/ECT@ECT\\nAllan Severude/HOU/ECT@ECT\\nJeffrey C Gossett/HOU/ECT@ECT\\nColleen Sullivan/HOU/ECT@ECT\\nRuss Severson/HOU/ECT@ECT\\nJayant Krishnaswamy/HOU/ECT@ECT\\nRussell Long/HOU/ECT@ECT\\n\\nDetailed description:\\n\\n\\nStatus update:\\nPhillip K Allen -> No Response\\nHunter S Shively -> No Response\\nScott Mills -> No Response\\nAllan Severude -> Accepted\\nJeffrey C Gossett -> Accepted\\nColleen Sullivan -> No Response\\nRuss Severson -> No Response\\nJayant Krishnaswamy -> Accepted\\nRussell Long -> Accepted\\n\\n\\n---------------------- Forwarded by Phillip K Allen/HOU/ECT on 09/26/2000 \\n02:00 PM ---------------------------\\n\\n\\n\\tReschedule\\nChairperson: Richard Burchfield\\nSent by: Cindy Cicchetti\\n\\nStart: 09/28/2000 01:00 PM\\nEnd: 09/28/2000 02:00 PM\\n\\nDescription: Gas Physical/Financail Positions - Room 2537\\n\\n\\n\\nThis meeting repeats   starting on    (if the date occurs on a weekend the \\nmeeting ).\\nMeeting Dates: \\n\\n\\n\\nFletcher J Sturm/HOU/ECT\\nScott Neal/HOU/ECT\\nHunter S Shively/HOU/ECT\\nPhillip K Allen/HOU/ECT\\nAllan Severude/HOU/ECT\\nScott Mills/HOU/ECT\\nRuss Severson/HOU/ECT\\n\\nDetailed description:\\n\\n\\n\\n---------------------- Forwarded by Phillip K Allen/HOU/ECT on 09/26/2000 \\n02:00 PM ---------------------------\\n\\n\\n\\tConfirmation\\nChairperson: Richard Burchfield\\nSent by: Cindy Cicchetti\\n\\nStart: 09/28/2000 01:00 PM\\nEnd: 09/28/2000 02:00 PM\\n\\nDescription: Gas Physical/Financail Positions - Room 2537\\n\\n\\n\\nThis meeting repeats   starting on    (if the date occurs on a weekend the \\nmeeting ).\\nMeeting Dates: \\n\\n\\n\\nFletcher J Sturm/HOU/ECT\\nScott Neal/HOU/ECT\\nHunter S Shively/HOU/ECT\\nPhillip K Allen/HOU/ECT\\nAllan Severude/HOU/ECT\\nScott Mills/HOU/ECT\\nRuss Severson/HOU/ECT\\n\\nDetailed description:\\n\\n\\nStatus update:\\nFletcher J Sturm -> No Response\\nScott Neal -> No Response\\nHunter S Shively -> No Response\\nPhillip K Allen -> No Response\\nAllan Severude -> Accepted\\nScott Mills -> Accepted\\nRuss Severson -> Accepted\\n\\n\\n---------------------- Forwarded by Phillip K Allen/HOU/ECT on 09/26/2000 \\n02:00 PM ---------------------------\\n   \\n\\t\\n\\t\\n\\tFrom:  Cindy Cicchetti                           09/26/2000 10:38 AM\\n\\t\\n\\nTo: Phillip K Allen/HOU/ECT@ECT, Hunter S Shively/HOU/ECT@ECT, Scott \\nMills/HOU/ECT@ECT, Allan Severude/HOU/ECT@ECT, Jeffrey C Gossett/HOU/ECT@ECT, \\nColleen Sullivan/HOU/ECT@ECT, Russ Severson/HOU/ECT@ECT, Jayant \\nKrishnaswamy/HOU/ECT@ECT, Russell Long/HOU/ECT@ECT\\ncc:  \\nSubject: Gas Trading Vision mtg.\\n\\nThis meeting has been moved to 4:00 on Wed. in room 2601.  I have sent a \\nconfirmation to each of you via Lotus Notes.  Sorry for all of the changes \\nbut there was a scheduling problem with a couple of people for the original \\ntime slot. \\n\"\\n\"allen-p/_sent_mail/12.\",\"Message-ID: <8572706.1075855378498.JavaMail.evans@thyme>\\nDate: Thu, 3 May 2001 15:57:00 -0700 (PDT)\\nFrom: phillip.allen@enron.com\\nTo: rlehmann@yahoo.com\\nSubject: \\nMime-Version: 1.0\\nContent-Type: text/plain; charset=us-ascii\\nContent-Transfer-Encoding: 7bit\\nX-From: Phillip K Allen\\nX-To: rlehmann <rlehmann@yahoo.com>\\nX-cc: \\nX-bcc: \\nX-Folder: \\\\Phillip_Allen_Jan2002_1\\\\Allen, Phillip K.\\\\\\'Sent Mail\\nX-Origin: Allen-P\\nX-FileName: pallen (Non-Privileged).pst\\n\\nReagan,\\n\\nJust wanted to give you an update.  I have changed the unit mix to include some 1 bedrooms and reduced the number of buildings to 12.  Kipp Flores is working on the construction drawings.  At the same time I am pursuing FHA financing.  Once the construction drawings are complete I will send them to you for a revised bid.  Your original bid was competitive and I am still attracted to your firm because of your strong local presence and contacts.\\n\\nPhillip\"\\n\"allen-p/_sent_mail/120.\",\"Message-ID: <29665600.1075855687895.JavaMail.evans@thyme>\\nDate: Tue, 26 Sep 2000 05:11:00 -0700 (PDT)\\nFrom: phillip.allen@enron.com\\nTo: cindy.cicchetti@enron.com\\nSubject: Re: Gas Trading Vision meeting\\nMime-Version: 1.0\\nContent-Type: text/plain; charset=us-ascii\\nContent-Transfer-Encoding: 7bit\\nX-From: Phillip K Allen\\nX-To: Cindy Cicchetti\\nX-cc: \\nX-bcc: \\nX-Folder: \\\\Phillip_Allen_Dec2000\\\\Notes Folders\\\\\\'sent mail\\nX-Origin: Allen-P\\nX-FileName: pallen.nsf\\n\\nNymex expiration is during this time frame.  Please reschedule.\"\\n\"allen-p/_sent_mail/121.\",\"Message-ID: <4449575.1075855687916.JavaMail.evans@thyme>\\nDate: Tue, 26 Sep 2000 05:08:00 -0700 (PDT)\\nFrom: phillip.allen@enron.com\\nTo: ina.rangel@enron.com\\nSubject: \\nMime-Version: 1.0\\nContent-Type: text/plain; charset=us-ascii\\nContent-Transfer-Encoding: 7bit\\nX-From: Phillip K Allen\\nX-To: Ina Rangel\\nX-cc: \\nX-bcc: \\nX-Folder: \\\\Phillip_Allen_Dec2000\\\\Notes Folders\\\\\\'sent mail\\nX-Origin: Allen-P\\nX-FileName: pallen.nsf\\n\\n---------------------- Forwarded by Phillip K Allen/HOU/ECT on 09/26/2000 \\n12:08 PM ---------------------------\\n\\n\\n\\tInvitation\\nChairperson: Richard Burchfield\\nSent by: Cindy Cicchetti\\n\\nStart: 09/27/2000 11:30 AM\\nEnd: 09/27/2000 12:30 PM\\n\\nDescription: Gas Trading Vision Meeting - Room EB2556\\n\\n\\n\\nThis meeting repeats   starting on    (if the date occurs on a weekend the \\nmeeting ).\\nMeeting Dates: \\n\\n\\n\\nPhillip K Allen/HOU/ECT\\nHunter S Shively/HOU/ECT\\nScott Mills/HOU/ECT\\nAllan Severude/HOU/ECT\\nJeffrey C Gossett/HOU/ECT\\nColleen Sullivan/HOU/ECT\\nRuss Severson/HOU/ECT\\nJayant Krishnaswamy/HOU/ECT\\nRussell Long/HOU/ECT\\n\\nDetailed description:\\n\\n\\n\"\\n\"allen-p/_sent_mail/122.\",\"Message-ID: <24741229.1075855687937.JavaMail.evans@thyme>\\nDate: Tue, 26 Sep 2000 05:07:00 -0700 (PDT)\\nFrom: phillip.allen@enron.com\\nTo: ina.rangel@enron.com\\nSubject: Gas Physical/Financial Position\\nMime-Version: 1.0\\nContent-Type: text/plain; charset=us-ascii\\nContent-Transfer-Encoding: 7bit\\nX-From: Phillip K Allen\\nX-To: Ina Rangel\\nX-cc: \\nX-bcc: \\nX-Folder: \\\\Phillip_Allen_Dec2000\\\\Notes Folders\\\\\\'sent mail\\nX-Origin: Allen-P\\nX-FileName: pallen.nsf\\n\\n---------------------- Forwarded by Phillip K Allen/HOU/ECT on 09/26/2000 \\n12:07 PM ---------------------------\\n   \\n\\t\\n\\t\\n\\tFrom:  Cindy Cicchetti                           09/26/2000 09:23 AM\\n\\t\\n\\nTo: Phillip K Allen/HOU/ECT@ECT, Hunter S Shively/HOU/ECT@ECT, Scott \\nMills/HOU/ECT@ECT, Allan Severude/HOU/ECT@ECT, Russ Severson/HOU/ECT@ECT, \\nFletcher J Sturm/HOU/ECT@ECT, Scott Neal/HOU/ECT@ECT\\ncc:  \\nSubject: Gas Physical/Financial Position\\n\\nI have scheduled and entered on each of your calendars a meeting for the \\nabove referenced topic.  It will take place on Thursday, 9/28 from 3:00 - \\n4:00 in Room EB2537.  \\n\"\\n\"allen-p/_sent_mail/123.\",\"Message-ID: <19330146.1075855687961.JavaMail.evans@thyme>\\nDate: Tue, 26 Sep 2000 04:57:00 -0700 (PDT)\\nFrom: phillip.allen@enron.com\\nTo: jsmith@austintx.com\\nSubject: closing\\nMime-Version: 1.0\\nContent-Type: text/plain; charset=ANSI_X3.4-1968\\nContent-Transfer-Encoding: 7bit\\nX-From: Phillip K Allen\\nX-To: jsmith@austintx.com\\nX-cc: \\nX-bcc: \\nX-Folder: \\\\Phillip_Allen_Dec2000\\\\Notes Folders\\\\\\'sent mail\\nX-Origin: Allen-P\\nX-FileName: pallen.nsf\\n\\n---------------------- Forwarded by Phillip K Allen/HOU/ECT on 09/26/2000 \\n11:57 AM ---------------------------\\n\\n\\n\"\"BS Stone\"\" <bs_stone@yahoo.com> on 09/26/2000 04:47:40 AM\\nTo: \"\"jeff\"\" <jeff@freeyellow.com>\\ncc: \"\"Phillip K Allen\"\" <Phillip.K.Allen@enron.com> \\nSubject: closing\\n\\n\\n\\nJeff, \\n?\\nIs the closing today?? After reviewing the  agreement?I find it isn\\'t binding \\nas far as I can determine.? It is  too vague and it doesn\\'t sound like \\nanything an attorney or title company  would?draft for a real estate \\nclosing--but, of course, I could be  wrong.? \\n?\\nIf this?closing is going to take place without  this agreement then there is \\nno point in me  following up on this?document\\'s validity.? \\n?\\nI will just need to go back to my closing documents  and see what\\'s there and \\nfind out where I am with that and deal with this as  best I can.\\n?\\nI guess I was expecting something that would be an  exhibit to a recordable \\ndocument or something a little more exact, or  rather?sort of a contract.? \\nThis isn\\'t either.? I tried to get a  real estate atty on the phone last \\nnight but he was out of pocket.? I  talked to a crim. atty friend and he said \\nthis is out of his area but doesn\\'t  sound binding to him.? \\n?\\nI will go back to mine and Phillip Allen\\'s  transaction?and take a look at \\nthat but as vague and general as this is I  doubt that my signature? is even \\nneeded to complete this transaction.?  I am in after 12 noon if ther'"
      ]
     },
     "execution_count": 89,
     "metadata": {},
     "output_type": "execute_result"
    }
   ],
   "source": [
    "#inspect start of emails.csv file \n",
    "dbutils.fs.head(\"FileStore/tables/emails.csv\")"
   ]
  },
  {
   "cell_type": "code",
   "execution_count": 0,
   "metadata": {
    "application/vnd.databricks.v1+cell": {
     "cellMetadata": {
      "byteLimit": 2048000,
      "rowLimit": 10000
     },
     "inputWidgets": {},
     "nuid": "a2fd4c5f-a9ac-423e-9c82-0cd4f71ae6de",
     "showTitle": false,
     "tableResultSettingsMap": {},
     "title": ""
    }
   },
   "outputs": [
    {
     "output_type": "stream",
     "name": "stdout",
     "output_type": "stream",
     "text": [
      "[Truncated to first 65536 bytes]\n\"file\",\"message\"\n\"allen-p/_sent_mail/1.\",\"Message-ID: <18782981.1075855378110.JavaMail.evans@thyme>\nDate: Mon, 14 May 2001 16:39:00 -0700 (PDT)\nFrom: phillip.allen@enron.com\nTo: tim.belden@enron.com\nSubject: \nMime-Version: 1.0\nContent-Type: text/plain; charset=us-ascii\nContent-Transfer-Encoding: 7bit\nX-From: Phillip K Allen\nX-To: Tim Belden <Tim Belden/Enron@EnronXGate>\nX-cc: \nX-bcc: \nX-Folder: \\Phillip_Allen_Jan2002_1\\Allen, Phillip K.\\'Sent Mail\nX-Origin: Allen-P\nX-FileName: pallen (Non-Privileged).pst\n\nHere is our forecast\n\n \"\n\"allen-p/_sent_mail/10.\",\"Message-ID: <15464986.1075855378456.JavaMail.evans@thyme>\nDate: Fri, 4 May 2001 13:51:00 -0700 (PDT)\nFrom: phillip.allen@enron.com\nTo: john.lavorato@enron.com\nSubject: Re:\nMime-Version: 1.0\nContent-Type: text/plain; charset=us-ascii\nContent-Transfer-Encoding: 7bit\nX-From: Phillip K Allen\nX-To: John J Lavorato <John J Lavorato/ENRON@enronXgate@ENRON>\nX-cc: \nX-bcc: \nX-Folder: \\Phillip_Allen_Jan2002_1\\Allen, Phillip K.\\'Sent Mail\nX-Origin: Allen-P\nX-FileName: pallen (Non-Privileged).pst\n\nTraveling to have a business meeting takes the fun out of the trip.  Especially if you have to prepare a presentation.  I would suggest holding the business plan meetings here then take a trip without any formal business meetings.  I would even try and get some honest opinions on whether a trip is even desired or necessary.\n\nAs far as the business meetings, I think it would be more productive to try and stimulate discussions across the different groups about what is working and what is not.  Too often the presenter speaks and the others are quiet just waiting for their turn.   The meetings might be better if held in a round table discussion format.  \n\nMy suggestion for where to go is Austin.  Play golf and rent a ski boat and jet ski's.  Flying somewhere takes too much time.\n\"\n\"allen-p/_sent_mail/100.\",\"Message-ID: <24216240.1075855687451.JavaMail.evans@thyme>\nDate: Wed, 18 Oct 2000 03:00:00 -0700 (PDT)\nFrom: phillip.allen@enron.com\nTo: leah.arsdall@enron.com\nSubject: Re: test\nMime-Version: 1.0\nContent-Type: text/plain; charset=us-ascii\nContent-Transfer-Encoding: 7bit\nX-From: Phillip K Allen\nX-To: Leah Van Arsdall\nX-cc: \nX-bcc: \nX-Folder: \\Phillip_Allen_Dec2000\\Notes Folders\\'sent mail\nX-Origin: Allen-P\nX-FileName: pallen.nsf\n\ntest successful.  way to go!!!\"\n\"allen-p/_sent_mail/1000.\",\"Message-ID: <13505866.1075863688222.JavaMail.evans@thyme>\nDate: Mon, 23 Oct 2000 06:13:00 -0700 (PDT)\nFrom: phillip.allen@enron.com\nTo: randall.gay@enron.com\nSubject: \nMime-Version: 1.0\nContent-Type: text/plain; charset=us-ascii\nContent-Transfer-Encoding: 7bit\nX-From: Phillip K Allen\nX-To: Randall L Gay\nX-cc: \nX-bcc: \nX-Folder: \\Phillip_Allen_Dec2000\\Notes Folders\\'sent mail\nX-Origin: Allen-P\nX-FileName: pallen.nsf\n\nRandy,\n\n Can you send me a schedule of the salary and level of everyone in the \nscheduling group.  Plus your thoughts on any changes that need to be made.  \n(Patti S for example)\n\nPhillip\"\n\"allen-p/_sent_mail/1001.\",\"Message-ID: <30922949.1075863688243.JavaMail.evans@thyme>\nDate: Thu, 31 Aug 2000 05:07:00 -0700 (PDT)\nFrom: phillip.allen@enron.com\nTo: greg.piper@enron.com\nSubject: Re: Hello\nMime-Version: 1.0\nContent-Type: text/plain; charset=us-ascii\nContent-Transfer-Encoding: 7bit\nX-From: Phillip K Allen\nX-To: Greg Piper\nX-cc: \nX-bcc: \nX-Folder: \\Phillip_Allen_Dec2000\\Notes Folders\\'sent mail\nX-Origin: Allen-P\nX-FileName: pallen.nsf\n\nLet's shoot for Tuesday at 11:45.  \"\n\"allen-p/_sent_mail/1002.\",\"Message-ID: <30965995.1075863688265.JavaMail.evans@thyme>\nDate: Thu, 31 Aug 2000 04:17:00 -0700 (PDT)\nFrom: phillip.allen@enron.com\nTo: greg.piper@enron.com\nSubject: Re: Hello\nMime-Version: 1.0\nContent-Type: text/plain; charset=us-ascii\nContent-Transfer-Encoding: 7bit\nX-From: Phillip K Allen\nX-To: Greg Piper\nX-cc: \nX-bcc: \nX-Folder: \\Phillip_Allen_Dec2000\\Notes Folders\\'sent mail\nX-Origin: Allen-P\nX-FileName: pallen.nsf\n\nGreg,\n\n How about either next Tuesday or Thursday?\n\nPhillip\"\n\"allen-p/_sent_mail/1003.\",\"Message-ID: <16254169.1075863688286.JavaMail.evans@thyme>\nDate: Tue, 22 Aug 2000 07:44:00 -0700 (PDT)\nFrom: phillip.allen@enron.com\nTo: david.l.johnson@enron.com, john.shafer@enron.com\nSubject: \nMime-Version: 1.0\nContent-Type: text/plain; charset=us-ascii\nContent-Transfer-Encoding: 7bit\nX-From: Phillip K Allen\nX-To: david.l.johnson@enron.com, John Shafer\nX-cc: \nX-bcc: \nX-Folder: \\Phillip_Allen_Dec2000\\Notes Folders\\'sent mail\nX-Origin: Allen-P\nX-FileName: pallen.nsf\n\nPlease cc the following distribution list with updates:\n\nPhillip Allen (pallen@enron.com)\nMike Grigsby (mike.grigsby@enron.com)\nKeith Holst (kholst@enron.com)\nMonique Sanchez\nFrank Ermis\nJohn Lavorato\n\n\nThank you for your help\n\nPhillip Allen\n\"\n\"allen-p/_sent_mail/1004.\",\"Message-ID: <17189699.1075863688308.JavaMail.evans@thyme>\nDate: Fri, 14 Jul 2000 06:59:00 -0700 (PDT)\nFrom: phillip.allen@enron.com\nTo: joyce.teixeira@enron.com\nSubject: Re: PRC review - phone calls\nMime-Version: 1.0\nContent-Type: text/plain; charset=us-ascii\nContent-Transfer-Encoding: 7bit\nX-From: Phillip K Allen\nX-To: Joyce Teixeira\nX-cc: \nX-bcc: \nX-Folder: \\Phillip_Allen_Dec2000\\Notes Folders\\'sent mail\nX-Origin: Allen-P\nX-FileName: pallen.nsf\n\nany morning between 10 and 11:30\"\n\"allen-p/_sent_mail/101.\",\"Message-ID: <20641191.1075855687472.JavaMail.evans@thyme>\nDate: Tue, 17 Oct 2000 02:26:00 -0700 (PDT)\nFrom: phillip.allen@enron.com\nTo: mark.scott@enron.com\nSubject: Re: High Speed Internet Access\nMime-Version: 1.0\nContent-Type: text/plain; charset=us-ascii\nContent-Transfer-Encoding: 7bit\nX-From: Phillip K Allen\nX-To: Mark Scott\nX-cc: \nX-bcc: \nX-Folder: \\Phillip_Allen_Dec2000\\Notes Folders\\'sent mail\nX-Origin: Allen-P\nX-FileName: pallen.nsf\n\n1. login:  pallen pw: ke9davis\n\n I don't think these are required by the ISP \n\n  2.  static IP address\n\n IP: 64.216.90.105\n Sub: 255.255.255.248\n gate: 64.216.90.110\n DNS: 151.164.1.8\n\n  3.  Company: 0413\n        RC:  105891\"\n\"allen-p/_sent_mail/102.\",\"Message-ID: <30795301.1075855687494.JavaMail.evans@thyme>\nDate: Mon, 16 Oct 2000 06:44:00 -0700 (PDT)\nFrom: phillip.allen@enron.com\nTo: zimam@enron.com\nSubject: FW: fixed forward or other Collar floor gas price terms\nMime-Version: 1.0\nContent-Type: text/plain; charset=us-ascii\nContent-Transfer-Encoding: 7bit\nX-From: Phillip K Allen\nX-To: zimam@enron.com\nX-cc: \nX-bcc: \nX-Folder: \\Phillip_Allen_Dec2000\\Notes Folders\\'sent mail\nX-Origin: Allen-P\nX-FileName: pallen.nsf\n\n---------------------- Forwarded by Phillip K Allen/HOU/ECT on 10/16/2000 \n01:42 PM ---------------------------\n\n\n\"\"Buckner, Buck\"\" <buck.buckner@honeywell.com> on 10/12/2000 01:12:21 PM\nTo: \"\"'Pallen@Enron.com'\"\" <Pallen@Enron.com>\ncc:  \nSubject: FW: fixed forward or other Collar floor gas price terms\n\n\nPhillip,\n\n> As discussed  during our phone conversation, In a Parallon 75 microturbine\n> power generation deal for a national accounts customer, I am developing a\n> proposal to sell power to customer at fixed or collar/floor price. To do\n> so I need a corresponding term gas price for same. Microturbine is an\n> onsite generation product developed by Honeywell to generate electricity\n> on customer site (degen). using natural gas. In doing so,  I need your\n> best fixed price forward gas price deal for 1, 3, 5, 7 and 10 years for\n> annual/seasonal supply to microturbines to generate fixed kWh for\n> customer. We have the opportunity to sell customer kWh 's using\n> microturbine or sell them turbines themselves. kWh deal must have limited/\n> no risk forward gas price to make deal work. Therein comes Sempra energy\n> gas trading, truly you.\n>\n> We are proposing installing 180 - 240 units across a large number of\n> stores (60-100) in San Diego.\n> Store number varies because of installation hurdles face at small percent.\n>\n> For 6-8 hours a day  Microturbine run time:\n> Gas requirement for 180 microturbines 227 - 302 MMcf per year\n> Gas requirement for 240 microturbines 302 - 403 MMcf per year\n>\n> Gas will likely be consumed from May through September, during peak\n> electric period.\n> Gas price required: Burnertip price behind (LDC) San Diego Gas & Electric\n> Need detail breakout of commodity and transport cost (firm or\n> interruptible).\n>\n> Should you have additional questions, give me a call.\n> Let me assure you, this is real deal!!\n>\n> Buck Buckner, P.E., MBA\n> Manager, Business Development and Planning\n> Big Box Retail Sales\n> Honeywell Power Systems, Inc.\n> 8725 Pan American Frwy\n> Albuquerque, NM 87113\n> 505-798-6424\n> 505-798-6050x\n> 505-220-4129\n> 888/501-3145\n> \n\"\n\"allen-p/_sent_mail/103.\",\"Message-ID: <33076797.1075855687515.JavaMail.evans@thyme>\nDate: Mon, 16 Oct 2000 06:42:00 -0700 (PDT)\nFrom: phillip.allen@enron.com\nTo: buck.buckner@honeywell.com\nSubject: Re: FW: fixed forward or other Collar floor gas price terms\nMime-Version: 1.0\nContent-Type: text/plain; charset=us-ascii\nContent-Transfer-Encoding: 7bit\nX-From: Phillip K Allen\nX-To: \"\"Buckner, Buck\"\" <buck.buckner@honeywell.com> @ ENRON\nX-cc: \nX-bcc: \nX-Folder: \\Phillip_Allen_Dec2000\\Notes Folders\\'sent mail\nX-Origin: Allen-P\nX-FileName: pallen.nsf\n\nMr. Buckner,\n\n For delivered gas behind San Diego, Enron Energy Services is the appropriate \nEnron entity.  I have forwarded your request to Zarin Imam at EES.  Her phone \nnumber is 713-853-7107.  \n\nPhillip Allen\"\n\"allen-p/_sent_mail/104.\",\"Message-ID: <25459584.1075855687536.JavaMail.evans@thyme>\nDate: Fri, 13 Oct 2000 06:45:00 -0700 (PDT)\nFrom: phillip.allen@enron.com\nTo: stagecoachmama@hotmail.com\nSubject: \nMime-Version: 1.0\nContent-Type: text/plain; charset=us-ascii\nContent-Transfer-Encoding: 7bit\nX-From: Phillip K Allen\nX-To: stagecoachmama@hotmail.com\nX-cc: \nX-bcc: \nX-Folder: \\Phillip_Allen_Dec2000\\Notes Folders\\'sent mail\nX-Origin: Allen-P\nX-FileName: pallen.nsf\n\nLucy,\n\n Here are the rentrolls:\n\n\n\n Open them and save in the rentroll folder.  Follow these steps so you don't \nmisplace these files.\n\n 1.  Click on Save As\n 2.  Click on the drop down triangle under Save in:\n 3.  Click on the  (C): drive\n 4.  Click on the appropriate folder\n 5.  Click on Save:\n\nPhillip\"\n\"allen-p/_sent_mail/105.\",\"Message-ID: <13116875.1075855687561.JavaMail.evans@thyme>\nDate: Mon, 9 Oct 2000 07:16:00 -0700 (PDT)\nFrom: phillip.allen@enron.com\nTo: keith.holst@enron.com\nSubject: Consolidated positions: Issues & To Do list\nMime-Version: 1.0\nContent-Type: text/plain; charset=us-ascii\nContent-Transfer-Encoding: 7bit\nX-From: Phillip K Allen\nX-To: Keith Holst\nX-cc: \nX-bcc: \nX-Folder: \\Phillip_Allen_Dec2000\\Notes Folders\\'sent mail\nX-Origin: Allen-P\nX-FileName: pallen.nsf\n\n---------------------- Forwarded by Phillip K Allen/HOU/ECT on 10/09/2000 \n02:16 PM ---------------------------\n\n\nRichard Burchfield\n10/06/2000 06:59 AM\nTo: Phillip K Allen/HOU/ECT@ECT\ncc: Beth Perlman/HOU/ECT@ECT \nSubject: Consolidated positions: Issues & To Do list\n\nPhillip,\n Below is the issues & to do list as we go forward with documenting the \nrequirements for consolidated physical/financial positions and transport \ntrade capture. What we need to focus on is the first bullet in Allan's list; \nthe need for a single set of requirements. Although the meeting with Keith, \non Wednesday,  was informative the solution of creating a infinitely dynamic \nconsolidated position screen, will be extremely difficult and time \nconsuming.  Throughout the meeting on Wednesday, Keith alluded to the \ninability to get consensus amongst the traders on the presentation of the \nconsolidated position, so the solution was to make it so that a trader can \narrange the position screen to their liking (much like Excel). What needs to \nhappen on Monday from 3 - 5 is a effort to design a desired layout for the \nconsolidated position screen, this is critical. This does not exclude \nbuilding a capability to create a more flexible position presentation for the \nfuture, but in order to create a plan that can be measured we need firm \nrequirements. Also, to reiterate that the goals of this project is a project \nplan on consolidate physical/financial positions and transport trade capture. \nThe other issues that have been raised will be capture as projects on to \nthemselves, and will need to be prioritised as efforts outside of this \nproject.\n\nI have been involved in most of the meetings and the discussions have been \ngood. I believe there has been good communication between the teams, but now \nwe need to have focus on the objectives we set out to solve.\n\nRichard  \n---------------------- Forwarded by Richard Burchfield/HOU/ECT on 10/06/2000 \n08:34 AM ---------------------------\n\n\nAllan Severude\n10/05/2000 06:03 PM\nTo: Richard Burchfield/HOU/ECT@ECT\ncc: Peggy Alix/HOU/ECT@ECT, Russ Severson/HOU/ECT@ECT, Scott \nMills/HOU/ECT@ECT, Kenny Ha/HOU/ECT@ECT \nSubject: Consolidated positions: Issues & To Do list\n\n\nFrom our initial set of meetings with the traders regarding consolidated \npositions, I think we still have the following issues:\nWe don't have a single point of contact from the trading group.  We've had \nthree meetings which brought out very different issues from different \ntraders.  We really need a single point of contact to help drive the trader \nrequirements and help come to a consensus regarding the requirements.\nWe're getting hit with a lot of different requests, many of which appear to \nbe outside the scope of position consolidation.\n\nThings left to do:\nI think it may be useful to try to formulate a high level project goal to \nmake it as clear as possible what we're trying to accomplish with this \nproject.  It'll help determine which requests fall under the project scope.\nGo through the list of requests to determine which are in scope for this \nproject and which fall out of scope.\nFor those in scope, work to define relative importance (priority) of each and \nwork with traders to define the exact requirements of each.\nDefine the desired lay out of the position manager screen: main view and all \ndrill downs.\nUse the above to formulate a project plan.\n\nThings requested thus far (no particular order):\nInclusion of Sitara physical deals into the TDS position manager and deal \nticker.\nCustomized rows and columns in the position manager (ad hoc rows/columns that \nadd up existing position manager rows/columns).\nNew drill down in the position manager to break out positions by: physical, \ntransport, swaps, options, ...\nAddition of a curve tab to the position manager to show the real-time values \nof all curves on which the desk has a position.\nAbility to split the current position grid to allow daily positions to be \nshown directly above monthly positions.  Each grouped column in the top grid \nwould be tied to a grouped column in the bottom grid.\nAbility to properly show curve shift for float-for-float deals; determine the \nappropriate positions to show for each:\nGas Daily for monthly index,\nPhysical gas for Nymex,\nPhysical gas for Inside Ferc,\nPhysical gas for Mid market.\nAbility for TDS to pull valuation results based on a TDS flag instead of \nusing official valuations.\nPosition and P&L aggregation across all gas desks.\nAbility to include the Gas Price book into TDS:\nInclusion of spread options in our systems.  Ability to handle volatility \nskew and correlations.\nAbility to revalue all options incrementally throughout the trading day.  \nApproximate delta changes between valuations using instantaneous gamma or a \ngamma grid.\nValuation of Gas Daily options.\nA new position screen for options (months x strike x delta).  TBD.\nInclusion of positions for exotic options currently managed in spreadsheets.\nAbility to isolate the position change due to changed deals in the position \nmanager.\nAbility to view change deal P&L in the TDS deal ticker.  Show new deal terms, \nprior deal terms, and net P&L affect of the change.\nEliminate change deals with no economic impact from the TDS deal ticker.\nPosition drill down in the position manager to isolate the impact of \nindividual deals on the position total in a grid cell.\nBenchmark positions in TDS.\nDeployment of TDS in Canada. Currency and volume uom conversions. Implicit \nand explicit position break out issues.\n\n-- Allan.\n\nPS: Colleen is setting up a meeting tomorrow to discuss the direction for \ntransport.  Hopefully we'll know much better where that part stands at that \npoint.\n\n\n\n\n\"\n\"allen-p/_sent_mail/106.\",\"Message-ID: <2707340.1075855687584.JavaMail.evans@thyme>\nDate: Mon, 9 Oct 2000 07:00:00 -0700 (PDT)\nFrom: phillip.allen@enron.com\nTo: keith.holst@enron.com\nSubject: Consolidated positions: Issues & To Do list\nMime-Version: 1.0\nContent-Type: text/plain; charset=us-ascii\nContent-Transfer-Encoding: 7bit\nX-From: Phillip K Allen\nX-To: Keith Holst\nX-cc: \nX-bcc: \nX-Folder: \\Phillip_Allen_Dec2000\\Notes Folders\\'sent mail\nX-Origin: Allen-P\nX-FileName: pallen.nsf\n\n---------------------- Forwarded by Phillip K Allen/HOU/ECT on 10/09/2000 \n02:00 PM ---------------------------\n\n\nRichard Burchfield\n10/06/2000 06:59 AM\nTo: Phillip K Allen/HOU/ECT@ECT\ncc: Beth Perlman/HOU/ECT@ECT \nSubject: Consolidated positions: Issues & To Do list\n\nPhillip,\n Below is the issues & to do list as we go forward with documenting the \nrequirements for consolidated physical/financial positions and transport \ntrade capture. What we need to focus on is the first bullet in Allan's list; \nthe need for a single set of requirements. Although the meeting with Keith, \non Wednesday,  was informative the solution of creating a infinitely dynamic \nconsolidated position screen, will be extremely difficult and time \nconsuming.  Throughout the meeting on Wednesday, Keith alluded to the \ninability to get consensus amongst the traders on the presentation of the \nconsolidated position, so the solution was to make it so that a trader can \narrange the position screen to their liking (much like Excel). What needs to \nhappen on Monday from 3 - 5 is a effort to design a desired layout for the \nconsolidated position screen, this is critical. This does not exclude \nbuilding a capability to create a more flexible position presentation for the \nfuture, but in order to create a plan that can be measured we need firm \nrequirements. Also, to reiterate that the goals of this project is a project \nplan on consolidate physical/financial positions and transport trade capture. \nThe other issues that have been raised will be capture as projects on to \nthemselves, and will need to be prioritised as efforts outside of this \nproject.\n\nI have been involved in most of the meetings and the discussions have been \ngood. I believe there has been good communication between the teams, but now \nwe need to have focus on the objectives we set out to solve.\n\nRichard  \n---------------------- Forwarded by Richard Burchfield/HOU/ECT on 10/06/2000 \n08:34 AM ---------------------------\n\n\nAllan Severude\n10/05/2000 06:03 PM\nTo: Richard Burchfield/HOU/ECT@ECT\ncc: Peggy Alix/HOU/ECT@ECT, Russ Severson/HOU/ECT@ECT, Scott \nMills/HOU/ECT@ECT, Kenny Ha/HOU/ECT@ECT \nSubject: Consolidated positions: Issues & To Do list\n\n\nFrom our initial set of meetings with the traders regarding consolidated \npositions, I think we still have the following issues:\nWe don't have a single point of contact from the trading group.  We've had \nthree meetings which brought out very different issues from different \ntraders.  We really need a single point of contact to help drive the trader \nrequirements and help come to a consensus regarding the requirements.\nWe're getting hit with a lot of different requests, many of which appear to \nbe outside the scope of position consolidation.\n\nThings left to do:\nI think it may be useful to try to formulate a high level project goal to \nmake it as clear as possible what we're trying to accomplish with this \nproject.  It'll help determine which requests fall under the project scope.\nGo through the list of requests to determine which are in scope for this \nproject and which fall out of scope.\nFor those in scope, work to define relative importance (priority) of each and \nwork with traders to define the exact requirements of each.\nDefine the desired lay out of the position manager screen: main view and all \ndrill downs.\nUse the above to formulate a project plan.\n\nThings requested thus far (no particular order):\nInclusion of Sitara physical deals into the TDS position manager and deal \nticker.\nCustomized rows and columns in the position manager (ad hoc rows/columns that \nadd up existing position manager rows/columns).\nNew drill down in the position manager to break out positions by: physical, \ntransport, swaps, options, ...\nAddition of a curve tab to the position manager to show the real-time values \nof all curves on which the desk has a position.\nAbility to split the current position grid to allow daily positions to be \nshown directly above monthly positions.  Each grouped column in the top grid \nwould be tied to a grouped column in the bottom grid.\nAbility to properly show curve shift for float-for-float deals; determine the \nappropriate positions to show for each:\nGas Daily for monthly index,\nPhysical gas for Nymex,\nPhysical gas for Inside Ferc,\nPhysical gas for Mid market.\nAbility for TDS to pull valuation results based on a TDS flag instead of \nusing official valuations.\nPosition and P&L aggregation across all gas desks.\nAbility to include the Gas Price book into TDS:\nInclusion of spread options in our systems.  Ability to handle volatility \nskew and correlations.\nAbility to revalue all options incrementally throughout the trading day.  \nApproximate delta changes between valuations using instantaneous gamma or a \ngamma grid.\nValuation of Gas Daily options.\nA new position screen for options (months x strike x delta).  TBD.\nInclusion of positions for exotic options currently managed in spreadsheets.\nAbility to isolate the position change due to changed deals in the position \nmanager.\nAbility to view change deal P&L in the TDS deal ticker.  Show new deal terms, \nprior deal terms, and net P&L affect of the change.\nEliminate change deals with no economic impact from the TDS deal ticker.\nPosition drill down in the position manager to isolate the impact of \nindividual deals on the position total in a grid cell.\nBenchmark positions in TDS.\nDeployment of TDS in Canada. Currency and volume uom conversions. Implicit \nand explicit position break out issues.\n\n-- Allan.\n\nPS: Colleen is setting up a meeting tomorrow to discuss the direction for \ntransport.  Hopefully we'll know much better where that part stands at that \npoint.\n\n\n\n\n\"\n\"allen-p/_sent_mail/107.\",\"Message-ID: <2465689.1075855687605.JavaMail.evans@thyme>\nDate: Thu, 5 Oct 2000 06:26:00 -0700 (PDT)\nFrom: phillip.allen@enron.com\nTo: david.delainey@enron.com\nSubject: \nMime-Version: 1.0\nContent-Type: text/plain; charset=us-ascii\nContent-Transfer-Encoding: 7bit\nX-From: Phillip K Allen\nX-To: David W Delainey\nX-cc: \nX-bcc: \nX-Folder: \\Phillip_Allen_Dec2000\\Notes Folders\\'sent mail\nX-Origin: Allen-P\nX-FileName: pallen.nsf\n\nDave, \n\n Here are the names of the west desk members by category.  The origination \nside is very sparse.  \n\n\n\n\n\nPhillip\n\"\n\"allen-p/_sent_mail/108.\",\"Message-ID: <1115198.1075855687626.JavaMail.evans@thyme>\nDate: Thu, 5 Oct 2000 05:55:00 -0700 (PDT)\nFrom: phillip.allen@enron.com\nTo: paula.harris@enron.com\nSubject: Re: 2001 Margin Plan\nMime-Version: 1.0\nContent-Type: text/plain; charset=us-ascii\nContent-Transfer-Encoding: 7bit\nX-From: Phillip K Allen\nX-To: Paula Harris\nX-cc: \nX-bcc: \nX-Folder: \\Phillip_Allen_Dec2000\\Notes Folders\\'sent mail\nX-Origin: Allen-P\nX-FileName: pallen.nsf\n\nPaula,\n\n 35 million is fine\n\nPhillip\"\n\"allen-p/_sent_mail/109.\",\"Message-ID: <19773657.1075855687649.JavaMail.evans@thyme>\nDate: Wed, 4 Oct 2000 09:23:00 -0700 (PDT)\nFrom: phillip.allen@enron.com\nTo: ina.rangel@enron.com\nSubject: Var, Reporting and Resources Meeting\nMime-Version: 1.0\nContent-Type: text/plain; charset=us-ascii\nContent-Transfer-Encoding: 7bit\nX-From: Phillip K Allen\nX-To: Ina Rangel\nX-cc: \nX-bcc: \nX-Folder: \\Phillip_Allen_Dec2000\\Notes Folders\\'sent mail\nX-Origin: Allen-P\nX-FileName: pallen.nsf\n\n---------------------- Forwarded by Phillip K Allen/HOU/ECT on 10/04/2000 \n04:23 PM ---------------------------\n   \n\tEnron North America Corp.\n\t\n\tFrom:  Airam Arteaga                           10/04/2000 12:23 PM\n\t\n\nTo: Phillip K Allen/HOU/ECT@ECT, Thomas A Martin/HOU/ECT@ECT, Scott \nNeal/HOU/ECT@ECT, John Arnold/HOU/ECT@ECT, Grant Masson/HOU/ECT@ECT, Ted \nMurphy/HOU/ECT@ECT, Vladimir Gorny/HOU/ECT@ECT, Frank Hayden/Corp/Enron@Enron\ncc: Rita Hennessy/NA/Enron@Enron, Ina Rangel/HOU/ECT@ECT, Laura \nHarder/Corp/Enron@Enron, Kimberly Brown/HOU/ECT@ECT, Araceli \nRomero/NA/Enron@Enron, Kimberly Hillis/HOU/ECT@ect \nSubject: Var, Reporting and Resources Meeting\n\nPlease plan to attend the below  Meeting:\n\n\n                                Topic:  Var, Reporting and Resources Meeting\n        \n  Date:  Wednesday, October 11th\n\n  Time:  2:30 - 3:30 \n\n  Location: EB30C1\n\n  \n\n If you have any questions/conflicts, please feel free to call me.\n\nThanks,\nRain\nx.31560\n\n\n\n\n\n\n\"\n\"allen-p/_sent_mail/11.\",\n\n*** WARNING: max output size exceeded, skipping output. ***\n\nent. The higher estimates of equity investments are shown in the\npreliminary proforma to be on the safe side.  The engineer is preparing a\ntentative site layout with an initial evaluation of the phasing, which can\nsignificantly reduce the cash equity requirement.\n\nPhasing works as follows.  If the first phase was say 40 units, the total\nlot improvement cost might average $31,000 per lot.   Of this, probably\n$13,000 would be for improvements and $19,000 for the land cost.  The\nimprovements are higher to cover large one time up front costs for design\ncosts, the entry road, water treatment costs, perimeter fencing and\nlandscaping, and so on, as well as for 100% of the land.  The land loan for\nundeveloped lots would be 70% of the appraised raw lot value, which I would\nestimate as $10,000 per lot for a loan value of $7,000 per lot.  Then the\nloan value for each improved lot would be $15,000 per lot.  This would give\nyou a total loan of $992,000, total cost of $1,232,645 for equity required\nof $241,000.  This was not presented in the initial analysis as the phasing\nis depended on a more careful assessment by the Civil Engineer as the\nseparate phases must each be able to stand on its own from a utility\nstandpoint.\n\nCONSTRUCTION LOANS\nThere are three types of  construction loans.  First, is a speculative\n(spec) loan that is taken out prior to any pre-sales activity.  Second,  is\na construction loan for a pre-sold unit, but the loan remains in the\nbuilder/developers name.  Third, is a pre-sold unit with the construction\nloan in the name of the buyer.  We expect to have up to 8 spec loans to\nstart the project and expect all other loans to be pre-sold units with loans\nin the name of the builder/developer.  We do not expect to have any\nconstruction loans in the name of the buyers, as such loans are too\ndifficult to manage and please new buyers unfamiliar with the process.\n\nSpec loans will be for 70% to 75% of value and construction loans for\npre-sold units, if the construction loan is from the mortgage lender,  will\nbe from 80% to 95% of value.\n\nDISBURSEMENTS\nDisbursements will be handled by the General Partner to cover current and\nnear term third party costs, then to necessary reserves, then to priority\npayments and then to the partners per the agreement.  The General Partner\nwill contract with Creekside Builders, LLC to construct the units and the\nfee to CB will include a construction management and overhead fee equal to\n15% of the direct hard cost excluding land, financing and sales costs.\nThese fees are the only monies to Creekside, Larry Lewter or myself prior to\ncalculation of profit, except for a) direct reimbursement for partnership\nexpenses and b) direct payment to CB for any subcontractor costs that it has\nto perform.  For example, if CB cannot find a good trim carpenter sub, or\ncannot find enough trim carpenters, etc., and it decides to undertake this\nfunction, it will charge the partnership the same fee it was able to obtain\nfrom third parties and will disclose those cases to the partnership.\nFinally, CB will receive a fee for the use of any of its equipment if it is\nused in lieu of leasing equipment from others.  At present CB does not own\nany significant equipment, but it is considering the purchase of a sky track\nto facilitate and speed up framing, cornice, roofing and drywall spreading.\n\nREPORTING\nWe are more than willing to provide reports to track expenses vs. plan.\nWhat did you have in mind?  I would like to use some form of internet based\nreporting.\n\nBOOKKEEPING\nI am not sure what you are referring to by the question, \"\"Bookkeeping\nprocedures to record actual expenses?\"\"  Please expand.\n\nINVESTOR INPUT\nWe are glad to have the investor's input on design and materials.  As always\nthe question will be who has final say if there is disagreement, but in my\nexperience I have always been able to reach consensus. As you, and I presume\nKeith, want to be involved to learn as much as possible we would make every\neffort to be accommodating.\n\nCREEKSIDE PROCEEDURES\nCB procedures for dealing with subs, vendors and professionals is not as\nformal as your question indicates.  In the EXTREMELY tight labor market\nobtaining 3 bids for each labor trade is not feasible.  For the professional\nsubs we use those with whom we have developed a previous rapport.  Finally,\nfor vendors they are constantly shopped.\n\nPRE-SELECTED PROFESSIONALS, SUBS AND VENDORS\nYes there are many different subs that have been identified and I can\nprovide these if you are interested.\n\nI know I have not answered everything, but this is a starting point.  Call\nwhen you have reviewed and we can discuss further.\n\nSincerely,\n\nGeorge Richards\nPresident, Creekside Builders, LLC\n\n\n\n\n - winmail.dat\n\"\n\"allen-p/_sent_mail/118.\",\"Message-ID: <719350.1075855687850.JavaMail.evans@thyme>\nDate: Tue, 26 Sep 2000 09:26:00 -0700 (PDT)\nFrom: phillip.allen@enron.com\nTo: pallen70@hotmail.com\nSubject: Investment Structure\nMime-Version: 1.0\nContent-Type: text/plain; charset=us-ascii\nContent-Transfer-Encoding: 7bit\nX-From: Phillip K Allen\nX-To: pallen70@hotmail.com\nX-cc: \nX-bcc: \nX-Folder: \\Phillip_Allen_Dec2000\\Notes Folders\\'sent mail\nX-Origin: Allen-P\nX-FileName: pallen.nsf\n\n---------------------- Forwarded by Phillip K Allen/HOU/ECT on 09/26/2000 \n04:26 PM ---------------------------\n\n\n\"\"George Richards\"\" <cbpres@austin.rr.com> on 09/26/2000 01:18:45 PM\nPlease respond to <cbpres@austin.rr.com>\nTo: \"\"Phillip Allen\"\" <pallen@enron.com>\ncc: \"\"Larry Lewter\"\" <retwell@mail.sanmarcos.net>, \"\"Claudia L. Crocker\"\" \n<clclegal2@aol.com> \nSubject: Investment Structure\n\n\nSTRUCTURE:\nTypically the structure is a limited partnership with a corporate (or LLC)\ngeneral partner.  The General Partner owns 1% of the project and carries the\nliability of construction.\n\nLAND OWNERSHIP & LOANS\nThe property would be purchased in the name of the limited partnership and\nany land loans, land improvements loans and construction loans would be in\nthe name of the limited partnership.  Each of the individual investors and\nall of the principals in Creekside would also personally guarantee the\nloans.  If the investor(s) do not sign on the loans, this generally means\nthat a larger amount of cash is required and the investor's share of profits\nis reduced.\n\nAll loans for residential construction, that are intended for re-sale, are\nfull recourse loans.  If we are pursuing multifamily rental developments,\nthe construction loans are still full recourse but the mortgage can often be\nnon-recourse.\n\nUSE OF INITIAL INVESTMENT\nThe initial investment is used for land deposit, engineering &\narchitectural design, soils tests, surveys, filing fees, legal fees for\norganization and condominium association formation,  and appraisals.  Unlike\nmany real estate investment programs, none of the funds are used for fees to\nCreekside Builders, LLC.  These professional expenses will be incurred over\nthe estimated 6 month design and approval period.\n\nEARLY LAND COSTS\nThe $4,000 per month costs listed in the cash flow as part of land cost\nrepresent the extension fees due to the seller for up to 4 months of\nextensions on closing.  As an alternative, we can close into a land loan at\nprobably 70% of appraised value.  With a land value equal to the purchase\nprice of $680,000 this would mean a land loan of $476,000 with estimated\nmonthly interest payments of $3,966, given a 10% annual interest rate, plus\napproximately 1.25% of the loan amount for closing costs and loan fees.\n\nEQUITY AT IMPROVEMENT LOAN\nOnce the site plan is approved by the City of Austin, the City will require\nthe development entity to post funds for fiscal improvements, referred to as\nthe \"\"fiscals\"\".  This cost represents a bond for the completion of\nimprovements that COA considers vital and these funds are released once the\nimprovements have been completed and accepted by COA.  This release will be\nfor 90% of the cost with the remaining 10% released one year after\ncompletion.  Releases can be granted once every 90 days and you should\nexpect that the release would occur 6 months after the start of lot\nimprovement construction.  These fiscals are usually posted in cash or an\nirrevocable letter of credit.  As such, they have to be counted as a\ndevelopment cost, even though they are not spent.  Because they are not\nspent no interest is charged on these funds.\n\nThe lot improvement loan is typically 75% of the appraised value of a\nfinished lot, which I suspect will be at least $20,000 and potentially as\nhigh as $25,000.  This would produce a loan amount of  $15,000 on $20,000\nper lot.  With estimated per lot improvement costs of $9,000, 'fiscals' at\n$2,000 and the land cost at $8,000 , total improved lot cost is $19,000\nwhich means $0 to $4,000 per lot in total equity.  The investment prior to\nobtaining the improvement loan would count towards any equity requirement\nprovided it was for direct costs.  Thus, the additional equity for the\nimprovement loan would be $0-$184,000.   Even if the maximum loan would\ncover all costs, it is unlikely the bank would allow reimbursement of funds\nspent. The higher estimates of equity investments are shown in the\npreliminary proforma to be on the safe side.  The engineer is preparing a\ntentative site layout with an initial evaluation of the phasing, which can\nsignificantly reduce the cash equity requirement.\n\nPhasing works as follows.  If the first phase was say 40 units, the total\nlot improvement cost might average $31,000 per lot.   Of this, probably\n$13,000 would be for improvements and $19,000 for the land cost.  The\nimprovements are higher to cover large one time up front costs for design\ncosts, the entry road, water treatment costs, perimeter fencing and\nlandscaping, and so on, as well as for 100% of the land.  The land loan for\nundeveloped lots would be 70% of the appraised raw lot value, which I would\nestimate as $10,000 per lot for a loan value of $7,000 per lot.  Then the\nloan value for each improved lot would be $15,000 per lot.  This would give\nyou a total loan of $992,000, total cost of $1,232,645 for equity required\nof $241,000.  This was not presented in the initial analysis as the phasing\nis depended on a more careful assessment by the Civil Engineer as the\nseparate phases must each be able to stand on its own from a utility\nstandpoint.\n\nCONSTRUCTION LOANS\nThere are three types of  construction loans.  First, is a speculative\n(spec) loan that is taken out prior to any pre-sales activity.  Second,  is\na construction loan for a pre-sold unit, but the loan remains in the\nbuilder/developers name.  Third, is a pre-sold unit with the construction\nloan in the name of the buyer.  We expect to have up to 8 spec loans to\nstart the project and expect all other loans to be pre-sold units with loans\nin the name of the builder/developer.  We do not expect to have any\nconstruction loans in the name of the buyers, as such loans are too\ndifficult to manage and please new buyers unfamiliar with the process.\n\nSpec loans will be for 70% to 75% of value and construction loans for\npre-sold units, if the construction loan is from the mortgage lender,  will\nbe from 80% to 95% of value.\n\nDISBURSEMENTS\nDisbursements will be handled by the General Partner to cover current and\nnear term third party costs, then to necessary reserves, then to priority\npayments and then to the partners per the agreement.  The General Partner\nwill contract with Creekside Builders, LLC to construct the units and the\nfee to CB will include a construction management and overhead fee equal to\n15% of the direct hard cost excluding land, financing and sales costs.\nThese fees are the only monies to Creekside, Larry Lewter or myself prior to\ncalculation of profit, except for a) direct reimbursement for partnership\nexpenses and b) direct payment to CB for any subcontractor costs that it has\nto perform.  For example, if CB cannot find a good trim carpenter sub, or\ncannot find enough trim carpenters, etc., and it decides to undertake this\nfunction, it will charge the partnership the same fee it was able to obtain\nfrom third parties and will disclose those cases to the partnership.\nFinally, CB will receive a fee for the use of any of its equipment if it is\nused in lieu of leasing equipment from others.  At present CB does not own\nany significant equipment, but it is considering the purchase of a sky track\nto facilitate and speed up framing, cornice, roofing and drywall spreading.\n\nREPORTING\nWe are more than willing to provide reports to track expenses vs. plan.\nWhat did you have in mind?  I would like to use some form of internet based\nreporting.\n\nBOOKKEEPING\nI am not sure what you are referring to by the question, \"\"Bookkeeping\nprocedures to record actual expenses?\"\"  Please expand.\n\nINVESTOR INPUT\nWe are glad to have the investor's input on design and materials.  As always\nthe question will be who has final say if there is disagreement, but in my\nexperience I have always been able to reach consensus. As you, and I presume\nKeith, want to be involved to learn as much as possible we would make every\neffort to be accommodating.\n\nCREEKSIDE PROCEEDURES\nCB procedures for dealing with subs, vendors and professionals is not as\nformal as your question indicates.  In the EXTREMELY tight labor market\nobtaining 3 bids for each labor trade is not feasible.  For the professional\nsubs we use those with whom we have developed a previous rapport.  Finally,\nfor vendors they are constantly shopped.\n\nPRE-SELECTED PROFESSIONALS, SUBS AND VENDORS\nYes there are many different subs that have been identified and I can\nprovide these if you are interested.\n\nI know I have not answered everything, but this is a starting point.  Call\nwhen you have reviewed and we can discuss further.\n\nSincerely,\n\nGeorge Richards\nPresident, Creekside Builders, LLC\n\n\n\n\n - winmail.dat\n\"\n\"allen-p/_sent_mail/119.\",\"Message-ID: <10523086.1075855687873.JavaMail.evans@thyme>\nDate: Tue, 26 Sep 2000 07:01:00 -0700 (PDT)\nFrom: phillip.allen@enron.com\nTo: ina.rangel@enron.com\nSubject: \nMime-Version: 1.0\nContent-Type: text/plain; charset=us-ascii\nContent-Transfer-Encoding: 7bit\nX-From: Phillip K Allen\nX-To: Ina Rangel\nX-cc: \nX-bcc: \nX-Folder: \\Phillip_Allen_Dec2000\\Notes Folders\\'sent mail\nX-Origin: Allen-P\nX-FileName: pallen.nsf\n\n---------------------- Forwarded by Phillip K Allen/HOU/ECT on 09/26/2000 \n02:00 PM ---------------------------\n\n\n\tReschedule\nChairperson: Richard Burchfield\nSent by: Cindy Cicchetti\n\nStart: 10/03/2000 02:30 PM\nEnd: 10/03/2000 03:30 PM\n\nDescription: Gas Physical/Financail Positions - Room 2537\n\n\n\nThis meeting repeats   starting on    (if the date occurs on a weekend the \nmeeting ).\nMeeting Dates: \n\n\n\nFletcher J Sturm/HOU/ECT\nScott Neal/HOU/ECT\nHunter S Shively/HOU/ECT\nPhillip K Allen/HOU/ECT\nAllan Severude/HOU/ECT\nScott Mills/HOU/ECT\nRuss Severson/HOU/ECT\n\nDetailed description:\n\n\n\n---------------------- Forwarded by Phillip K Allen/HOU/ECT on 09/26/2000 \n02:00 PM ---------------------------\n\n\n\tConfirmation\nChairperson: Richard Burchfield\nSent by: Cindy Cicchetti\n\nStart: 10/03/2000 02:30 PM\nEnd: 10/03/2000 03:30 PM\n\nDescription: Gas Physical/Financail Positions - Room 2537\n\n\n\nThis meeting repeats   starting on    (if the date occurs on a weekend the \nmeeting ).\nMeeting Dates: \n\n\n\nFletcher J Sturm/HOU/ECT\nScott Neal/HOU/ECT\nHunter S Shively/HOU/ECT\nPhillip K Allen/HOU/ECT\nAllan Severude/HOU/ECT\nScott Mills/HOU/ECT\nRuss Severson/HOU/ECT\n\nDetailed description:\n\n\nStatus update:\nFletcher J Sturm -> No Response\nScott Neal -> No Response\nHunter S Shively -> No Response\nPhillip K Allen -> No Response\nAllan Severude -> Accepted\nScott Mills -> Accepted\nRuss Severson -> No Response\n\n\n---------------------- Forwarded by Phillip K Allen/HOU/ECT on 09/26/2000 \n02:00 PM ---------------------------\n\n\n\tReschedule\nChairperson: Richard Burchfield\nSent by: Cindy Cicchetti\n\nStart: 09/27/2000 02:00 PM\nEnd: 09/27/2000 03:00 PM\n\nDescription: Gas Trading Vision Meeting - Room EB2601\n\n\n\nThis meeting repeats   starting on    (if the date occurs on a weekend the \nmeeting ).\nMeeting Dates: \n\n\n\nPhillip K Allen/HOU/ECT@ECT\nHunter S Shively/HOU/ECT@ECT\nScott Mills/HOU/ECT@ECT\nAllan Severude/HOU/ECT@ECT\nJeffrey C Gossett/HOU/ECT@ECT\nColleen Sullivan/HOU/ECT@ECT\nRuss Severson/HOU/ECT@ECT\nJayant Krishnaswamy/HOU/ECT@ECT\nRussell Long/HOU/ECT@ECT\n\nDetailed description:\n\n\n\n---------------------- Forwarded by Phillip K Allen/HOU/ECT on 09/26/2000 \n02:00 PM ---------------------------\n\n\n\tConfirmation\nChairperson: Richard Burchfield\nSent by: Cindy Cicchetti\n\nStart: 09/27/2000 02:00 PM\nEnd: 09/27/2000 03:00 PM\n\nDescription: Gas Trading Vision Meeting - Room EB2601\n\n\n\nThis meeting repeats   starting on    (if the date occurs on a weekend the \nmeeting ).\nMeeting Dates: \n\n\n\nPhillip K Allen/HOU/ECT@ECT\nHunter S Shively/HOU/ECT@ECT\nScott Mills/HOU/ECT@ECT\nAllan Severude/HOU/ECT@ECT\nJeffrey C Gossett/HOU/ECT@ECT\nColleen Sullivan/HOU/ECT@ECT\nRuss Severson/HOU/ECT@ECT\nJayant Krishnaswamy/HOU/ECT@ECT\nRussell Long/HOU/ECT@ECT\n\nDetailed description:\n\n\nStatus update:\nPhillip K Allen -> No Response\nHunter S Shively -> No Response\nScott Mills -> No Response\nAllan Severude -> Accepted\nJeffrey C Gossett -> Accepted\nColleen Sullivan -> No Response\nRuss Severson -> No Response\nJayant Krishnaswamy -> Accepted\nRussell Long -> Accepted\n\n\n---------------------- Forwarded by Phillip K Allen/HOU/ECT on 09/26/2000 \n02:00 PM ---------------------------\n\n\n\tReschedule\nChairperson: Richard Burchfield\nSent by: Cindy Cicchetti\n\nStart: 09/28/2000 01:00 PM\nEnd: 09/28/2000 02:00 PM\n\nDescription: Gas Physical/Financail Positions - Room 2537\n\n\n\nThis meeting repeats   starting on    (if the date occurs on a weekend the \nmeeting ).\nMeeting Dates: \n\n\n\nFletcher J Sturm/HOU/ECT\nScott Neal/HOU/ECT\nHunter S Shively/HOU/ECT\nPhillip K Allen/HOU/ECT\nAllan Severude/HOU/ECT\nScott Mills/HOU/ECT\nRuss Severson/HOU/ECT\n\nDetailed description:\n\n\n\n---------------------- Forwarded by Phillip K Allen/HOU/ECT on 09/26/2000 \n02:00 PM ---------------------------\n\n\n\tConfirmation\nChairperson: Richard Burchfield\nSent by: Cindy Cicchetti\n\nStart: 09/28/2000 01:00 PM\nEnd: 09/28/2000 02:00 PM\n\nDescription: Gas Physical/Financail Positions - Room 2537\n\n\n\nThis meeting repeats   starting on    (if the date occurs on a weekend the \nmeeting ).\nMeeting Dates: \n\n\n\nFletcher J Sturm/HOU/ECT\nScott Neal/HOU/ECT\nHunter S Shively/HOU/ECT\nPhillip K Allen/HOU/ECT\nAllan Severude/HOU/ECT\nScott Mills/HOU/ECT\nRuss Severson/HOU/ECT\n\nDetailed description:\n\n\nStatus update:\nFletcher J Sturm -> No Response\nScott Neal -> No Response\nHunter S Shively -> No Response\nPhillip K Allen -> No Response\nAllan Severude -> Accepted\nScott Mills -> Accepted\nRuss Severson -> Accepted\n\n\n---------------------- Forwarded by Phillip K Allen/HOU/ECT on 09/26/2000 \n02:00 PM ---------------------------\n   \n\t\n\t\n\tFrom:  Cindy Cicchetti                           09/26/2000 10:38 AM\n\t\n\nTo: Phillip K Allen/HOU/ECT@ECT, Hunter S Shively/HOU/ECT@ECT, Scott \nMills/HOU/ECT@ECT, Allan Severude/HOU/ECT@ECT, Jeffrey C Gossett/HOU/ECT@ECT, \nColleen Sullivan/HOU/ECT@ECT, Russ Severson/HOU/ECT@ECT, Jayant \nKrishnaswamy/HOU/ECT@ECT, Russell Long/HOU/ECT@ECT\ncc:  \nSubject: Gas Trading Vision mtg.\n\nThis meeting has been moved to 4:00 on Wed. in room 2601.  I have sent a \nconfirmation to each of you via Lotus Notes.  Sorry for all of the changes \nbut there was a scheduling problem with a couple of people for the original \ntime slot. \n\"\n\"allen-p/_sent_mail/12.\",\"Message-ID: <8572706.1075855378498.JavaMail.evans@thyme>\nDate: Thu, 3 May 2001 15:57:00 -0700 (PDT)\nFrom: phillip.allen@enron.com\nTo: rlehmann@yahoo.com\nSubject: \nMime-Version: 1.0\nContent-Type: text/plain; charset=us-ascii\nContent-Transfer-Encoding: 7bit\nX-From: Phillip K Allen\nX-To: rlehmann <rlehmann@yahoo.com>\nX-cc: \nX-bcc: \nX-Folder: \\Phillip_Allen_Jan2002_1\\Allen, Phillip K.\\'Sent Mail\nX-Origin: Allen-P\nX-FileName: pallen (Non-Privileged).pst\n\nReagan,\n\nJust wanted to give you an update.  I have changed the unit mix to include some 1 bedrooms and reduced the number of buildings to 12.  Kipp Flores is working on the construction drawings.  At the same time I am pursuing FHA financing.  Once the construction drawings are complete I will send them to you for a revised bid.  Your original bid was competitive and I am still attracted to your firm because of your strong local presence and contacts.\n\nPhillip\"\n\"allen-p/_sent_mail/120.\",\"Message-ID: <29665600.1075855687895.JavaMail.evans@thyme>\nDate: Tue, 26 Sep 2000 05:11:00 -0700 (PDT)\nFrom: phillip.allen@enron.com\nTo: cindy.cicchetti@enron.com\nSubject: Re: Gas Trading Vision meeting\nMime-Version: 1.0\nContent-Type: text/plain; charset=us-ascii\nContent-Transfer-Encoding: 7bit\nX-From: Phillip K Allen\nX-To: Cindy Cicchetti\nX-cc: \nX-bcc: \nX-Folder: \\Phillip_Allen_Dec2000\\Notes Folders\\'sent mail\nX-Origin: Allen-P\nX-FileName: pallen.nsf\n\nNymex expiration is during this time frame.  Please reschedule.\"\n\"allen-p/_sent_mail/121.\",\"Message-ID: <4449575.1075855687916.JavaMail.evans@thyme>\nDate: Tue, 26 Sep 2000 05:08:00 -0700 (PDT)\nFrom: phillip.allen@enron.com\nTo: ina.rangel@enron.com\nSubject: \nMime-Version: 1.0\nContent-Type: text/plain; charset=us-ascii\nContent-Transfer-Encoding: 7bit\nX-From: Phillip K Allen\nX-To: Ina Rangel\nX-cc: \nX-bcc: \nX-Folder: \\Phillip_Allen_Dec2000\\Notes Folders\\'sent mail\nX-Origin: Allen-P\nX-FileName: pallen.nsf\n\n---------------------- Forwarded by Phillip K Allen/HOU/ECT on 09/26/2000 \n12:08 PM ---------------------------\n\n\n\tInvitation\nChairperson: Richard Burchfield\nSent by: Cindy Cicchetti\n\nStart: 09/27/2000 11:30 AM\nEnd: 09/27/2000 12:30 PM\n\nDescription: Gas Trading Vision Meeting - Room EB2556\n\n\n\nThis meeting repeats   starting on    (if the date occurs on a weekend the \nmeeting ).\nMeeting Dates: \n\n\n\nPhillip K Allen/HOU/ECT\nHunter S Shively/HOU/ECT\nScott Mills/HOU/ECT\nAllan Severude/HOU/ECT\nJeffrey C Gossett/HOU/ECT\nColleen Sullivan/HOU/ECT\nRuss Severson/HOU/ECT\nJayant Krishnaswamy/HOU/ECT\nRussell Long/HOU/ECT\n\nDetailed description:\n\n\n\"\n\"allen-p/_sent_mail/122.\",\"Message-ID: <24741229.1075855687937.JavaMail.evans@thyme>\nDate: Tue, 26 Sep 2000 05:07:00 -0700 (PDT)\nFrom: phillip.allen@enron.com\nTo: ina.rangel@enron.com\nSubject: Gas Physical/Financial Position\nMime-Version: 1.0\nContent-Type: text/plain; charset=us-ascii\nContent-Transfer-Encoding: 7bit\nX-From: Phillip K Allen\nX-To: Ina Rangel\nX-cc: \nX-bcc: \nX-Folder: \\Phillip_Allen_Dec2000\\Notes Folders\\'sent mail\nX-Origin: Allen-P\nX-FileName: pallen.nsf\n\n---------------------- Forwarded by Phillip K Allen/HOU/ECT on 09/26/2000 \n12:07 PM ---------------------------\n   \n\t\n\t\n\tFrom:  Cindy Cicchetti                           09/26/2000 09:23 AM\n\t\n\nTo: Phillip K Allen/HOU/ECT@ECT, Hunter S Shively/HOU/ECT@ECT, Scott \nMills/HOU/ECT@ECT, Allan Severude/HOU/ECT@ECT, Russ Severson/HOU/ECT@ECT, \nFletcher J Sturm/HOU/ECT@ECT, Scott Neal/HOU/ECT@ECT\ncc:  \nSubject: Gas Physical/Financial Position\n\nI have scheduled and entered on each of your calendars a meeting for the \nabove referenced topic.  It will take place on Thursday, 9/28 from 3:00 - \n4:00 in Room EB2537.  \n\"\n\"allen-p/_sent_mail/123.\",\"Message-ID: <19330146.1075855687961.JavaMail.evans@thyme>\nDate: Tue, 26 Sep 2000 04:57:00 -0700 (PDT)\nFrom: phillip.allen@enron.com\nTo: jsmith@austintx.com\nSubject: closing\nMime-Version: 1.0\nContent-Type: text/plain; charset=ANSI_X3.4-1968\nContent-Transfer-Encoding: 7bit\nX-From: Phillip K Allen\nX-To: jsmith@austintx.com\nX-cc: \nX-bcc: \nX-Folder: \\Phillip_Allen_Dec2000\\Notes Folders\\'sent mail\nX-Origin: Allen-P\nX-FileName: pallen.nsf\n\n---------------------- Forwarded by Phillip K Allen/HOU/ECT on 09/26/2000 \n11:57 AM ---------------------------\n\n\n\"\"BS Stone\"\" <bs_stone@yahoo.com> on 09/26/2000 04:47:40 AM\nTo: \"\"jeff\"\" <jeff@freeyellow.com>\ncc: \"\"Phillip K Allen\"\" <Phillip.K.Allen@enron.com> \nSubject: closing\n\n\n\nJeff, \n?\nIs the closing today?? After reviewing the  agreement?I find it isn't binding \nas far as I can determine.? It is  too vague and it doesn't sound like \nanything an attorney or title company  would?draft for a real estate \nclosing--but, of course, I could be  wrong.? \n?\nIf this?closing is going to take place without  this agreement then there is \nno point in me  following up on this?document's validity.? \n?\nI will just need to go back to my closing documents  and see what's there and \nfind out where I am with that and deal with this as  best I can.\n?\nI guess I was expecting something that would be an  exhibit to a recordable \ndocument or something a little more exact, or  rather?sort of a contract.? \nThis isn't either.? I tried to get a  real estate atty on the phone last \nnight but he was out of pocket.? I  talked to a crim. atty friend and he said \nthis is out of his area but doesn't  sound binding to him.? \n?\nI will go back to mine and Phillip Allen's  transaction?and take a look at \nthat but as vague and general as this is I  doubt that my signature? is even \nneeded to complete this transaction.?  I am in after 12 noon if ther\n"
     ]
    }
   ],
   "source": [
    "#split lines in emails.csv file to make it easier to see structure\n",
    "for line in dbutils.fs.head(\"/FileStore/tables/emails.csv\").splitlines():\n",
    "    print(line)"
   ]
  },
  {
   "cell_type": "code",
   "execution_count": 0,
   "metadata": {
    "application/vnd.databricks.v1+cell": {
     "cellMetadata": {
      "byteLimit": 2048000,
      "rowLimit": 10000
     },
     "inputWidgets": {},
     "nuid": "d5967129-a5b3-4346-a09c-4b928339f10a",
     "showTitle": false,
     "tableResultSettingsMap": {},
     "title": ""
    }
   },
   "outputs": [],
   "source": [
    "#read emails.csv file into dataframe (df) without splitting lines in email message onto multiple rows of dataframe \n",
    "df = spark.read.csv(\n",
    "\"/FileStore/tables/emails.csv\",\n",
    "header=True, # Use the first row as the header\n",
    "inferSchema=True, # Infer data types\n",
    "quote='\"', # Define the quote character\n",
    "escape='\"', # Escape quotes inside quoted fields\n",
    "multiLine=True # Enable multiline support\n",
    ")"
   ]
  },
  {
   "cell_type": "code",
   "execution_count": 0,
   "metadata": {
    "application/vnd.databricks.v1+cell": {
     "cellMetadata": {
      "byteLimit": 2048000,
      "rowLimit": 10000
     },
     "inputWidgets": {},
     "nuid": "7a9fc721-aacb-4b7e-b34b-dcec93c2919b",
     "showTitle": false,
     "tableResultSettingsMap": {},
     "title": ""
    }
   },
   "outputs": [
    {
     "output_type": "stream",
     "name": "stdout",
     "output_type": "stream",
     "text": [
      "+--------------------+--------------------+\n|                file|             message|\n+--------------------+--------------------+\n|allen-p/_sent_mai...|Message-ID: <1878...|\n|allen-p/_sent_mai...|Message-ID: <1546...|\n|allen-p/_sent_mai...|Message-ID: <2421...|\n|allen-p/_sent_mai...|Message-ID: <1350...|\n|allen-p/_sent_mai...|Message-ID: <3092...|\n+--------------------+--------------------+\nonly showing top 5 rows\n\n"
     ]
    }
   ],
   "source": [
    "#inspect top 5 rows of dataframe \n",
    "df.show(5)"
   ]
  },
  {
   "cell_type": "code",
   "execution_count": 0,
   "metadata": {
    "application/vnd.databricks.v1+cell": {
     "cellMetadata": {
      "byteLimit": 2048000,
      "rowLimit": 10000
     },
     "inputWidgets": {},
     "nuid": "bca65718-4608-478b-9c72-8e7f53872fc7",
     "showTitle": false,
     "tableResultSettingsMap": {},
     "title": ""
    }
   },
   "outputs": [
    {
     "output_type": "stream",
     "name": "stdout",
     "output_type": "stream",
     "text": [
      "+----------------------+-------------------------------------------------------------------------------------------------------------------------------------------------------------------------------------------------------------------------------------------------------------------------------------------------------------------------------------------------------------------------------------------------------------------------------------------------------------------------------------------------------------------------------------------------------------------------------------------------------------------------------------------------------------------------------------------------------------------------------------------------------------------------------------------------------------------------------------------------------------------------------------------------------------------------------------------------------------------------------------------------------------------------------------------------------------------------------------------------------------------------------------------------------------------------------------------------------------------------------------------------------------------------------------------------------------------------------------------------+\n|file                  |message                                                                                                                                                                                                                                                                                                                                                                                                                                                                                                                                                                                                                                                                                                                                                                                                                                                                                                                                                                                                                                                                                                                                                                                                                                                                                                                                          |\n+----------------------+-------------------------------------------------------------------------------------------------------------------------------------------------------------------------------------------------------------------------------------------------------------------------------------------------------------------------------------------------------------------------------------------------------------------------------------------------------------------------------------------------------------------------------------------------------------------------------------------------------------------------------------------------------------------------------------------------------------------------------------------------------------------------------------------------------------------------------------------------------------------------------------------------------------------------------------------------------------------------------------------------------------------------------------------------------------------------------------------------------------------------------------------------------------------------------------------------------------------------------------------------------------------------------------------------------------------------------------------------+\n|allen-p/_sent_mail/1. |Message-ID: <18782981.1075855378110.JavaMail.evans@thyme>\\nDate: Mon, 14 May 2001 16:39:00 -0700 (PDT)\\nFrom: phillip.allen@enron.com\\nTo: tim.belden@enron.com\\nSubject: \\nMime-Version: 1.0\\nContent-Type: text/plain; charset=us-ascii\\nContent-Transfer-Encoding: 7bit\\nX-From: Phillip K Allen\\nX-To: Tim Belden <Tim Belden/Enron@EnronXGate>\\nX-cc: \\nX-bcc: \\nX-Folder: \\Phillip_Allen_Jan2002_1\\Allen, Phillip K.\\'Sent Mail\\nX-Origin: Allen-P\\nX-FileName: pallen (Non-Privileged).pst\\n\\nHere is our forecast\\n\\n                                                                                                                                                                                                                                                                                                                                                                                                                                                                                                                                                                                                                                                                                                                                                                                                                    |\n|allen-p/_sent_mail/10.|Message-ID: <15464986.1075855378456.JavaMail.evans@thyme>\\nDate: Fri, 4 May 2001 13:51:00 -0700 (PDT)\\nFrom: phillip.allen@enron.com\\nTo: john.lavorato@enron.com\\nSubject: Re:\\nMime-Version: 1.0\\nContent-Type: text/plain; charset=us-ascii\\nContent-Transfer-Encoding: 7bit\\nX-From: Phillip K Allen\\nX-To: John J Lavorato <John J Lavorato/ENRON@enronXgate@ENRON>\\nX-cc: \\nX-bcc: \\nX-Folder: \\Phillip_Allen_Jan2002_1\\Allen, Phillip K.\\'Sent Mail\\nX-Origin: Allen-P\\nX-FileName: pallen (Non-Privileged).pst\\n\\nTraveling to have a business meeting takes the fun out of the trip.  Especially if you have to prepare a presentation.  I would suggest holding the business plan meetings here then take a trip without any formal business meetings.  I would even try and get some honest opinions on whether a trip is even desired or necessary.\\n\\nAs far as the business meetings, I think it would be more productive to try and stimulate discussions across the different groups about what is working and what is not.  Too often the presenter speaks and the others are quiet just waiting for their turn.   The meetings might be better if held in a round table discussion format.  \\n\\nMy suggestion for where to go is Austin.  Play golf and rent a ski boat and jet ski's.  Flying somewhere takes too much time.\\n|\n+----------------------+-------------------------------------------------------------------------------------------------------------------------------------------------------------------------------------------------------------------------------------------------------------------------------------------------------------------------------------------------------------------------------------------------------------------------------------------------------------------------------------------------------------------------------------------------------------------------------------------------------------------------------------------------------------------------------------------------------------------------------------------------------------------------------------------------------------------------------------------------------------------------------------------------------------------------------------------------------------------------------------------------------------------------------------------------------------------------------------------------------------------------------------------------------------------------------------------------------------------------------------------------------------------------------------------------------------------------------------------------+\nonly showing top 2 rows\n\n"
     ]
    }
   ],
   "source": [
    "#inspect top 2 rows of dataframe without truncation \n",
    "df.show(2, truncate = False)"
   ]
  },
  {
   "cell_type": "code",
   "execution_count": 0,
   "metadata": {
    "application/vnd.databricks.v1+cell": {
     "cellMetadata": {
      "byteLimit": 2048000,
      "rowLimit": 10000
     },
     "inputWidgets": {},
     "nuid": "1c5f51b3-7287-4694-bbf5-331aa3ab34aa",
     "showTitle": false,
     "tableResultSettingsMap": {},
     "title": ""
    }
   },
   "outputs": [
    {
     "output_type": "stream",
     "name": "stdout",
     "output_type": "stream",
     "text": [
      "root\n |-- file: string (nullable = true)\n |-- message: string (nullable = true)\n\n"
     ]
    }
   ],
   "source": [
    "#inspect automatically-generated schema of df \n",
    "df.printSchema()"
   ]
  },
  {
   "cell_type": "code",
   "execution_count": 0,
   "metadata": {
    "application/vnd.databricks.v1+cell": {
     "cellMetadata": {
      "byteLimit": 2048000,
      "rowLimit": 10000
     },
     "inputWidgets": {},
     "nuid": "8569eb69-d67c-4920-9958-1a3ca41573e2",
     "showTitle": false,
     "tableResultSettingsMap": {},
     "title": ""
    }
   },
   "outputs": [
    {
     "output_type": "execute_result",
     "data": {
      "text/plain": [
       "517401"
      ]
     },
     "execution_count": 95,
     "metadata": {},
     "output_type": "execute_result"
    }
   ],
   "source": [
    "#count how many rows in dataframe (that is, how many instances or email messages)\n",
    "df.count()"
   ]
  },
  {
   "cell_type": "code",
   "execution_count": 0,
   "metadata": {
    "application/vnd.databricks.v1+cell": {
     "cellMetadata": {
      "byteLimit": 2048000,
      "rowLimit": 10000
     },
     "inputWidgets": {},
     "nuid": "86b7ca75-7beb-4b29-a674-74a6b92f2c80",
     "showTitle": false,
     "tableResultSettingsMap": {},
     "title": ""
    }
   },
   "outputs": [],
   "source": [
    "#transform message column of dataframe into RDD\n",
    "rdd = df.select(\"message\").rdd"
   ]
  },
  {
   "cell_type": "code",
   "execution_count": 0,
   "metadata": {
    "application/vnd.databricks.v1+cell": {
     "cellMetadata": {
      "byteLimit": 2048000,
      "rowLimit": 10000
     },
     "inputWidgets": {},
     "nuid": "f6ac1538-c537-460b-85c2-ec30d73c60e5",
     "showTitle": false,
     "tableResultSettingsMap": {},
     "title": ""
    }
   },
   "outputs": [
    {
     "output_type": "execute_result",
     "data": {
      "text/plain": [
       "[Row(message=\"Message-ID: <18782981.1075855378110.JavaMail.evans@thyme>\\nDate: Mon, 14 May 2001 16:39:00 -0700 (PDT)\\nFrom: phillip.allen@enron.com\\nTo: tim.belden@enron.com\\nSubject: \\nMime-Version: 1.0\\nContent-Type: text/plain; charset=us-ascii\\nContent-Transfer-Encoding: 7bit\\nX-From: Phillip K Allen\\nX-To: Tim Belden <Tim Belden/Enron@EnronXGate>\\nX-cc: \\nX-bcc: \\nX-Folder: \\\\Phillip_Allen_Jan2002_1\\\\Allen, Phillip K.\\\\'Sent Mail\\nX-Origin: Allen-P\\nX-FileName: pallen (Non-Privileged).pst\\n\\nHere is our forecast\\n\\n \")]"
      ]
     },
     "execution_count": 97,
     "metadata": {},
     "output_type": "execute_result"
    }
   ],
   "source": [
    "#inspect first 2 elements of RDD\n",
    "rdd.take(1)"
   ]
  },
  {
   "cell_type": "code",
   "execution_count": 0,
   "metadata": {
    "application/vnd.databricks.v1+cell": {
     "cellMetadata": {
      "byteLimit": 2048000,
      "rowLimit": 10000
     },
     "inputWidgets": {},
     "nuid": "23c14232-be1a-4615-8cbe-2aef0a31e2f2",
     "showTitle": false,
     "tableResultSettingsMap": {},
     "title": ""
    }
   },
   "outputs": [
    {
     "output_type": "execute_result",
     "data": {
      "text/plain": [
       "517401"
      ]
     },
     "execution_count": 98,
     "metadata": {},
     "output_type": "execute_result"
    }
   ],
   "source": [
    "#check number of elements in RDD is same as number of rows in dataframe \n",
    "rdd.count()"
   ]
  },
  {
   "cell_type": "code",
   "execution_count": 0,
   "metadata": {
    "application/vnd.databricks.v1+cell": {
     "cellMetadata": {
      "byteLimit": 2048000,
      "rowLimit": 10000
     },
     "inputWidgets": {},
     "nuid": "fbf9aa89-9864-44bf-9a5b-f26f08847217",
     "showTitle": false,
     "tableResultSettingsMap": {},
     "title": ""
    }
   },
   "outputs": [],
   "source": [
    "\"\"\"\n",
    "This splits the message column of the df dataframe by newline characters (\\n) but limits the splitting to 15 parts. This avoids splitting the body of the emails, which contain many newline characters. The resulting list is then converted into an RDD, which is then flatMapped so each element in x (the list created by splitting the message) will be returned as a separate element in the RDD called split_rdd.\n",
    "\"\"\"\n",
    "import pyspark.sql.functions as F\n",
    "\n",
    "split_rdd = df.select(F.split(df.message,\"\\n\", 15)).rdd.flatMap(lambda x: x)"
   ]
  },
  {
   "cell_type": "code",
   "execution_count": 0,
   "metadata": {
    "application/vnd.databricks.v1+cell": {
     "cellMetadata": {
      "byteLimit": 2048000,
      "rowLimit": 10000
     },
     "inputWidgets": {},
     "nuid": "d6c3d6a1-b9f2-4083-b2c0-f40b62e88fad",
     "showTitle": false,
     "tableResultSettingsMap": {},
     "title": ""
    }
   },
   "outputs": [
    {
     "output_type": "execute_result",
     "data": {
      "text/plain": [
       "[['Message-ID: <18782981.1075855378110.JavaMail.evans@thyme>',\n",
       "  'Date: Mon, 14 May 2001 16:39:00 -0700 (PDT)',\n",
       "  'From: phillip.allen@enron.com',\n",
       "  'To: tim.belden@enron.com',\n",
       "  'Subject: ',\n",
       "  'Mime-Version: 1.0',\n",
       "  'Content-Type: text/plain; charset=us-ascii',\n",
       "  'Content-Transfer-Encoding: 7bit',\n",
       "  'X-From: Phillip K Allen',\n",
       "  'X-To: Tim Belden <Tim Belden/Enron@EnronXGate>',\n",
       "  'X-cc: ',\n",
       "  'X-bcc: ',\n",
       "  \"X-Folder: \\\\Phillip_Allen_Jan2002_1\\\\Allen, Phillip K.\\\\'Sent Mail\",\n",
       "  'X-Origin: Allen-P',\n",
       "  'X-FileName: pallen (Non-Privileged).pst\\n\\nHere is our forecast\\n\\n '],\n",
       " ['Message-ID: <15464986.1075855378456.JavaMail.evans@thyme>',\n",
       "  'Date: Fri, 4 May 2001 13:51:00 -0700 (PDT)',\n",
       "  'From: phillip.allen@enron.com',\n",
       "  'To: john.lavorato@enron.com',\n",
       "  'Subject: Re:',\n",
       "  'Mime-Version: 1.0',\n",
       "  'Content-Type: text/plain; charset=us-ascii',\n",
       "  'Content-Transfer-Encoding: 7bit',\n",
       "  'X-From: Phillip K Allen',\n",
       "  'X-To: John J Lavorato <John J Lavorato/ENRON@enronXgate@ENRON>',\n",
       "  'X-cc: ',\n",
       "  'X-bcc: ',\n",
       "  \"X-Folder: \\\\Phillip_Allen_Jan2002_1\\\\Allen, Phillip K.\\\\'Sent Mail\",\n",
       "  'X-Origin: Allen-P',\n",
       "  \"X-FileName: pallen (Non-Privileged).pst\\n\\nTraveling to have a business meeting takes the fun out of the trip.  Especially if you have to prepare a presentation.  I would suggest holding the business plan meetings here then take a trip without any formal business meetings.  I would even try and get some honest opinions on whether a trip is even desired or necessary.\\n\\nAs far as the business meetings, I think it would be more productive to try and stimulate discussions across the different groups about what is working and what is not.  Too often the presenter speaks and the others are quiet just waiting for their turn.   The meetings might be better if held in a round table discussion format.  \\n\\nMy suggestion for where to go is Austin.  Play golf and rent a ski boat and jet ski's.  Flying somewhere takes too much time.\\n\"]]"
      ]
     },
     "execution_count": 100,
     "metadata": {},
     "output_type": "execute_result"
    }
   ],
   "source": [
    "# Check the code in the cell above worked by inspecting the first 2 elements of split_rdd\n",
    "split_rdd.take(2)"
   ]
  },
  {
   "cell_type": "code",
   "execution_count": 0,
   "metadata": {
    "application/vnd.databricks.v1+cell": {
     "cellMetadata": {
      "byteLimit": 2048000,
      "rowLimit": 10000
     },
     "inputWidgets": {},
     "nuid": "1377df21-7646-4547-8c45-ead4a90fc58a",
     "showTitle": false,
     "tableResultSettingsMap": {},
     "title": ""
    }
   },
   "outputs": [],
   "source": [
    "def splitter(r: list[str]) -> list[str]:\n",
    "    \"\"\"\n",
    "    define a function that takes a list of strings r and splits each string by the first occurrence of the colon (:) if there is a colon. Where there is a colon, it takes the second part (s.split(\":\")[1]), trims any surrounding whitespace with strip(), and appends the cleaned data to a list called new_row. Where there isn't a colon, it appends the string 'None' to the list called new_row. \n",
    "    \"\"\"\n",
    "    new_row = []\n",
    "    for string in r:\n",
    "        if \":\" in string:\n",
    "            cleaned_data = string.split(\":\", 1)[1].strip()\n",
    "            new_row.append(cleaned_data)\n",
    "        else:\n",
    "            new_row.append(\"None\")\n",
    "    return new_row"
   ]
  },
  {
   "cell_type": "code",
   "execution_count": 0,
   "metadata": {
    "application/vnd.databricks.v1+cell": {
     "cellMetadata": {
      "byteLimit": 2048000,
      "rowLimit": 10000
     },
     "inputWidgets": {},
     "nuid": "1c211aa3-5b3b-4b57-8549-5e19056ec1fa",
     "showTitle": false,
     "tableResultSettingsMap": {},
     "title": ""
    }
   },
   "outputs": [],
   "source": [
    "# The map transformation applies the splitter function defined above to each element of split_rdd. The splitter function processes each list of strings (that is, each element of split_rdd) and returns a new list of cleaned strings. This results in an RDD where each element is a list of strings, and the strings are dates, email addresses, subject lines etc (corresponding to fields like Date, From, Subject, etc.) or \"None\" if a colon was missing \n",
    "mapped_rdd = split_rdd.map(splitter)\n",
    "\n",
    "# this function checks how many times the string \"None\" appears in the mapped_rdd. The count comes to 0, indicating that every item in the RDD had a colon when the function in the cell above was applied \n",
    "def none_filter(s: str) -> bool:\n",
    "    return s==\"None\"\n",
    "#mapped_rdd.filter(none_filter).count()"
   ]
  },
  {
   "cell_type": "code",
   "execution_count": 0,
   "metadata": {
    "application/vnd.databricks.v1+cell": {
     "cellMetadata": {
      "byteLimit": 2048000,
      "rowLimit": 10000
     },
     "inputWidgets": {},
     "nuid": "ac29d1f8-7398-4575-90c7-9f4332824510",
     "showTitle": false,
     "tableResultSettingsMap": {},
     "title": ""
    }
   },
   "outputs": [
    {
     "output_type": "execute_result",
     "data": {
      "text/plain": [
       "[['<18782981.1075855378110.JavaMail.evans@thyme>',\n",
       "  'Mon, 14 May 2001 16:39:00 -0700 (PDT)',\n",
       "  'phillip.allen@enron.com',\n",
       "  'tim.belden@enron.com',\n",
       "  '',\n",
       "  '1.0',\n",
       "  'text/plain; charset=us-ascii',\n",
       "  '7bit',\n",
       "  'Phillip K Allen',\n",
       "  'Tim Belden <Tim Belden/Enron@EnronXGate>',\n",
       "  '',\n",
       "  '',\n",
       "  \"\\\\Phillip_Allen_Jan2002_1\\\\Allen, Phillip K.\\\\'Sent Mail\",\n",
       "  'Allen-P',\n",
       "  'pallen (Non-Privileged).pst\\n\\nHere is our forecast'],\n",
       " ['<15464986.1075855378456.JavaMail.evans@thyme>',\n",
       "  'Fri, 4 May 2001 13:51:00 -0700 (PDT)',\n",
       "  'phillip.allen@enron.com',\n",
       "  'john.lavorato@enron.com',\n",
       "  'Re:',\n",
       "  '1.0',\n",
       "  'text/plain; charset=us-ascii',\n",
       "  '7bit',\n",
       "  'Phillip K Allen',\n",
       "  'John J Lavorato <John J Lavorato/ENRON@enronXgate@ENRON>',\n",
       "  '',\n",
       "  '',\n",
       "  \"\\\\Phillip_Allen_Jan2002_1\\\\Allen, Phillip K.\\\\'Sent Mail\",\n",
       "  'Allen-P',\n",
       "  \"pallen (Non-Privileged).pst\\n\\nTraveling to have a business meeting takes the fun out of the trip.  Especially if you have to prepare a presentation.  I would suggest holding the business plan meetings here then take a trip without any formal business meetings.  I would even try and get some honest opinions on whether a trip is even desired or necessary.\\n\\nAs far as the business meetings, I think it would be more productive to try and stimulate discussions across the different groups about what is working and what is not.  Too often the presenter speaks and the others are quiet just waiting for their turn.   The meetings might be better if held in a round table discussion format.  \\n\\nMy suggestion for where to go is Austin.  Play golf and rent a ski boat and jet ski's.  Flying somewhere takes too much time.\"]]"
      ]
     },
     "execution_count": 103,
     "metadata": {},
     "output_type": "execute_result"
    }
   ],
   "source": [
    "# Check that the code in the cell above worked by inspecting the first 2 elements of mapped_rdd\n",
    "mapped_rdd.take(2)"
   ]
  },
  {
   "cell_type": "code",
   "execution_count": 0,
   "metadata": {
    "application/vnd.databricks.v1+cell": {
     "cellMetadata": {
      "byteLimit": 2048000,
      "rowLimit": 10000
     },
     "inputWidgets": {},
     "nuid": "7d3b77c5-ce00-4402-a501-c2e6e07aaf5c",
     "showTitle": false,
     "tableResultSettingsMap": {},
     "title": ""
    }
   },
   "outputs": [],
   "source": [
    "# After applying the splitter function above, we convert the resulting RDD (mapped_rdd) back into a DataFrame (mapped_df). The defined list of column names (['Message-ID', 'Date', ...]) is passed to the .toDF() method to create a DataFrame with the corresponding schema.\n",
    "mapped_df = mapped_rdd.toDF(['Message-ID', 'Date', 'From', 'To', 'Subject', 'Mime-Version', 'Content-Type', 'Content-Transfer-Encoding', 'X-From', 'X-To', 'X-cc', 'X-bcc', 'X-Folder', 'X-Origin', 'X-FileName and body'])"
   ]
  },
  {
   "cell_type": "code",
   "execution_count": 0,
   "metadata": {
    "application/vnd.databricks.v1+cell": {
     "cellMetadata": {
      "byteLimit": 2048000,
      "rowLimit": 10000
     },
     "inputWidgets": {},
     "nuid": "1f3ad99d-0d32-461c-96cb-1d330e91e601",
     "showTitle": false,
     "tableResultSettingsMap": {},
     "title": ""
    }
   },
   "outputs": [
    {
     "output_type": "stream",
     "name": "stdout",
     "output_type": "stream",
     "text": [
      "+---------------------------------------------+-------------------------------------+-----------------------+-----------------------+---------+\n|Message-ID                                   |Date                                 |From                   |To                     |Subject  |\n+---------------------------------------------+-------------------------------------+-----------------------+-----------------------+---------+\n|<18782981.1075855378110.JavaMail.evans@thyme>|Mon, 14 May 2001 16:39:00 -0700 (PDT)|phillip.allen@enron.com|tim.belden@enron.com   |         |\n|<15464986.1075855378456.JavaMail.evans@thyme>|Fri, 4 May 2001 13:51:00 -0700 (PDT) |phillip.allen@enron.com|john.lavorato@enron.com|Re:      |\n|<24216240.1075855687451.JavaMail.evans@thyme>|Wed, 18 Oct 2000 03:00:00 -0700 (PDT)|phillip.allen@enron.com|leah.arsdall@enron.com |Re: test |\n|<13505866.1075863688222.JavaMail.evans@thyme>|Mon, 23 Oct 2000 06:13:00 -0700 (PDT)|phillip.allen@enron.com|randall.gay@enron.com  |         |\n|<30922949.1075863688243.JavaMail.evans@thyme>|Thu, 31 Aug 2000 05:07:00 -0700 (PDT)|phillip.allen@enron.com|greg.piper@enron.com   |Re: Hello|\n+---------------------------------------------+-------------------------------------+-----------------------+-----------------------+---------+\nonly showing top 5 rows\n\n"
     ]
    }
   ],
   "source": [
    "# Select first 5 columns of mapped_df only as the remaining columns are not relevant to the assignment. Check that the code in the cell above worked by inspecting the first 5 rows of the dataframe\n",
    "relevant_mapped_df = mapped_df.select(mapped_df.columns[:5])\n",
    "relevant_mapped_df.show(n=5, truncate=False)"
   ]
  },
  {
   "cell_type": "code",
   "execution_count": 0,
   "metadata": {
    "application/vnd.databricks.v1+cell": {
     "cellMetadata": {
      "byteLimit": 2048000,
      "rowLimit": 10000
     },
     "inputWidgets": {},
     "nuid": "a2c91996-6faf-4d5b-bb29-538359d1ca23",
     "showTitle": false,
     "tableResultSettingsMap": {},
     "title": ""
    }
   },
   "outputs": [
    {
     "output_type": "execute_result",
     "data": {
      "text/plain": [
       "517401"
      ]
     },
     "execution_count": 106,
     "metadata": {},
     "output_type": "execute_result"
    }
   ],
   "source": [
    "#check number of rows in relevant_mapped_df is still the same as before \n",
    "relevant_mapped_df.count()"
   ]
  },
  {
   "cell_type": "code",
   "execution_count": 0,
   "metadata": {
    "application/vnd.databricks.v1+cell": {
     "cellMetadata": {
      "byteLimit": 2048000,
      "rowLimit": 10000
     },
     "inputWidgets": {},
     "nuid": "dae21a0d-51f4-4907-bf88-1a0c04ff24fe",
     "showTitle": false,
     "tableResultSettingsMap": {},
     "title": ""
    }
   },
   "outputs": [
    {
     "output_type": "stream",
     "name": "stdout",
     "output_type": "stream",
     "text": [
      "[('Message-ID', 'string'), ('Date', 'string'), ('From', 'string'), ('To', 'string'), ('Subject', 'string')]\n"
     ]
    }
   ],
   "source": [
    "# Checking datatype of contents of columns  \n",
    "print(relevant_mapped_df.dtypes)"
   ]
  },
  {
   "cell_type": "code",
   "execution_count": 0,
   "metadata": {
    "application/vnd.databricks.v1+cell": {
     "cellMetadata": {
      "byteLimit": 2048000,
      "rowLimit": 10000
     },
     "inputWidgets": {},
     "nuid": "d3e262ea-01a3-47fd-a5fe-25d45b419803",
     "showTitle": false,
     "tableResultSettingsMap": {},
     "title": ""
    }
   },
   "outputs": [
    {
     "output_type": "stream",
     "name": "stdout",
     "output_type": "stream",
     "text": [
      "[('Message-ID', 'string'), ('Date', 'string'), ('From', 'string'), ('To', 'string'), ('Subject', 'string'), ('cleaned_date', 'string'), ('timestamp', 'timestamp'), ('formatted_date', 'date')]\n"
     ]
    }
   ],
   "source": [
    "# We need to convert the contents of the 'Date' column from 'string' datatype to 'date' datatype. To do this, we first remove the weekday part from the start of each string (eg 'Fri'), then convert the remaining string to a timestamp format. Then we pass the timestamps to the date_format() function to convert from timestamp datatype to date datatype\n",
    "\n",
    "relevant_mapped_df = relevant_mapped_df.withColumn(\"cleaned_date\", \n",
    "    F.regexp_replace(F.col(\"Date\"), r\"^[a-zA-Z]{3},\\s*\", \"\"))\n",
    "\n",
    "relevant_mapped_df = relevant_mapped_df.withColumn(\"timestamp\", \n",
    "    F.to_timestamp(F.col(\"cleaned_date\"), \"d MMM yyyy HH:mm:ss Z (zzz)\")  # \"d\" allows single and double digits for day\n",
    ")\n",
    "\n",
    "relevant_mapped_df = relevant_mapped_df.withColumn(\"formatted_date\", \n",
    "    F.date_format(F.col(\"timestamp\"), \"yyyy-MM-dd\")\n",
    ")\n",
    "\n",
    "relevant_mapped_df = relevant_mapped_df.withColumn(\"formatted_date\", F.to_date(F.col(\"formatted_date\")))\n",
    "print(relevant_mapped_df.dtypes)\n"
   ]
  },
  {
   "cell_type": "code",
   "execution_count": 0,
   "metadata": {
    "application/vnd.databricks.v1+cell": {
     "cellMetadata": {
      "byteLimit": 2048000,
      "rowLimit": 10000
     },
     "inputWidgets": {},
     "nuid": "d01c4be6-f777-4600-9eda-ca3d112feee7",
     "showTitle": false,
     "tableResultSettingsMap": {},
     "title": ""
    }
   },
   "outputs": [
    {
     "output_type": "stream",
     "name": "stdout",
     "output_type": "stream",
     "text": [
      "[('Message-ID', 'string'), ('From', 'string'), ('To', 'string'), ('Subject', 'string'), ('formatted_date', 'date')]\n+---------------------------------------------+-----------------------+-----------------------+---------+--------------+\n|Message-ID                                   |From                   |To                     |Subject  |formatted_date|\n+---------------------------------------------+-----------------------+-----------------------+---------+--------------+\n|<18782981.1075855378110.JavaMail.evans@thyme>|phillip.allen@enron.com|tim.belden@enron.com   |         |2001-05-14    |\n|<15464986.1075855378456.JavaMail.evans@thyme>|phillip.allen@enron.com|john.lavorato@enron.com|Re:      |2001-05-04    |\n|<24216240.1075855687451.JavaMail.evans@thyme>|phillip.allen@enron.com|leah.arsdall@enron.com |Re: test |2000-10-18    |\n|<13505866.1075863688222.JavaMail.evans@thyme>|phillip.allen@enron.com|randall.gay@enron.com  |         |2000-10-23    |\n|<30922949.1075863688243.JavaMail.evans@thyme>|phillip.allen@enron.com|greg.piper@enron.com   |Re: Hello|2000-08-31    |\n+---------------------------------------------+-----------------------+-----------------------+---------+--------------+\nonly showing top 5 rows\n\n"
     ]
    }
   ],
   "source": [
    "# create new dataframe with the formatted_date column but without the older 'date', 'cleane_date' and 'timestamp' columns. Double-check the contents of the 'formatted_date' column are in date datatype, not string datatype \n",
    "\n",
    "five_column_df = relevant_mapped_df.drop(\"Date\", \"cleaned_date\", \"timestamp\")\n",
    "print(five_column_df.dtypes)\n",
    "five_column_df.show(n=5, truncate=False)"
   ]
  },
  {
   "cell_type": "code",
   "execution_count": 0,
   "metadata": {
    "application/vnd.databricks.v1+cell": {
     "cellMetadata": {
      "byteLimit": 2048000,
      "rowLimit": 10000
     },
     "inputWidgets": {},
     "nuid": "c76c74ad-23c4-4a38-8e1c-84ea3b5c82c5",
     "showTitle": false,
     "tableResultSettingsMap": {},
     "title": ""
    }
   },
   "outputs": [],
   "source": [
    "#check number of entries in five_column_df is same as original df \n",
    "five_column_df.count()"
   ]
  },
  {
   "cell_type": "code",
   "execution_count": 0,
   "metadata": {
    "application/vnd.databricks.v1+cell": {
     "cellMetadata": {
      "byteLimit": 2048000,
      "rowLimit": 10000
     },
     "inputWidgets": {},
     "nuid": "9ebca7f3-6c0f-474c-b42f-55249c2ecf3c",
     "showTitle": false,
     "tableResultSettingsMap": {},
     "title": ""
    }
   },
   "outputs": [
    {
     "output_type": "execute_result",
     "data": {
      "text/plain": [
       "22354"
      ]
     },
     "execution_count": 111,
     "metadata": {},
     "output_type": "execute_result"
    }
   ],
   "source": [
    "# check how many entries in the 'To' column don't contain an '@' sign \n",
    "\n",
    "invalid_email_in_To_df = five_column_df.filter(\n",
    "    ~F.col('To').contains('@')\n",
    ")\n",
    "\n",
    "invalid_email_in_To_df.count()"
   ]
  },
  {
   "cell_type": "code",
   "execution_count": 0,
   "metadata": {
    "application/vnd.databricks.v1+cell": {
     "cellMetadata": {
      "byteLimit": 2048000,
      "rowLimit": 10000
     },
     "inputWidgets": {},
     "nuid": "b266ccbd-fa32-4c94-801a-7a59b0262f95",
     "showTitle": false,
     "tableResultSettingsMap": {},
     "title": ""
    }
   },
   "outputs": [
    {
     "output_type": "execute_result",
     "data": {
      "text/plain": [
       "1"
      ]
     },
     "execution_count": 112,
     "metadata": {},
     "output_type": "execute_result"
    }
   ],
   "source": [
    "# check how many entries in the 'From' column don't contain an '@' sign \n",
    "\n",
    "invalid_email_in_From_df = five_column_df.filter(\n",
    "    ~F.col('From').contains('@')\n",
    ")\n",
    "\n",
    "invalid_email_in_From_df.count()"
   ]
  },
  {
   "cell_type": "code",
   "execution_count": 0,
   "metadata": {
    "application/vnd.databricks.v1+cell": {
     "cellMetadata": {
      "byteLimit": 2048000,
      "rowLimit": 10000
     },
     "inputWidgets": {},
     "nuid": "b9e383f0-e021-402c-b1a0-e77bd7f905c7",
     "showTitle": false,
     "tableResultSettingsMap": {},
     "title": ""
    }
   },
   "outputs": [],
   "source": [
    "#The code in the 2 cells above show that 22,354 rows don't cotain an '@' sign in the 'To' column and 1 row doesn't contain an '@' sign in the 'From' column. This equates to 4.32% and 0.0001% of the dataset, respectively. We consider these instances rare enough to not have a big impact on the assignment "
   ]
  }
 ],
 "metadata": {
  "application/vnd.databricks.v1+notebook": {
   "computePreferences": null,
   "dashboards": [],
   "environmentMetadata": {
    "base_environment": "",
    "client": "1"
   },
   "language": "python",
   "notebookMetadata": {
    "pythonIndentUnit": 4
   },
   "notebookName": "MR's BDTT coursework",
   "widgets": {}
  }
 },
 "nbformat": 4,
 "nbformat_minor": 0
}
